{
 "cells": [
  {
   "cell_type": "code",
   "execution_count": 1,
   "metadata": {},
   "outputs": [],
   "source": [
    "import warnings\n",
    "warnings.filterwarnings('ignore')"
   ]
  },
  {
   "cell_type": "code",
   "execution_count": 2,
   "metadata": {},
   "outputs": [],
   "source": [
    "# Importing essential libraries\n",
    "import os\n",
    "import pandas as pd\n",
    "import numpy as np\n",
    "import datetime as dt\n",
    "import tensorflow as tf\n",
    "import matplotlib.pyplot as plt\n",
    "import plotly.express as px\n",
    "from plotly.subplots import make_subplots\n",
    "from plotly.offline import init_notebook_mode\n",
    "from sklearn.metrics import (\n",
    "    mean_squared_error, mean_absolute_error, explained_variance_score, r2_score,\n",
    "    mean_poisson_deviance, mean_gamma_deviance, accuracy_score\n",
    ")\n",
    "from sklearn.preprocessing import MinMaxScaler\n",
    "from tensorflow.keras.models import Sequential\n",
    "from tensorflow.keras.layers import (\n",
    "    LSTM, Dropout, Dense, BatchNormalization, Bidirectional, Conv1D, \n",
    "    MaxPooling1D, Flatten\n",
    ")\n",
    "from tensorflow.keras.callbacks import EarlyStopping, ModelCheckpoint, ReduceLROnPlateau,ModelCheckpoint, TensorBoard\n",
    "from tensorflow.keras.optimizers import Adam\n",
    "\n",
    "import datetime"
   ]
  },
  {
   "cell_type": "code",
   "execution_count": 3,
   "metadata": {},
   "outputs": [
    {
     "data": {
      "text/plain": [
       "(2274, 7)"
      ]
     },
     "execution_count": 3,
     "metadata": {},
     "output_type": "execute_result"
    }
   ],
   "source": [
    "df = pd.read_csv('Tesla.csv')\n",
    "df.shape"
   ]
  },
  {
   "cell_type": "code",
   "execution_count": 4,
   "metadata": {},
   "outputs": [
    {
     "data": {
      "text/html": [
       "<div>\n",
       "<style scoped>\n",
       "    .dataframe tbody tr th:only-of-type {\n",
       "        vertical-align: middle;\n",
       "    }\n",
       "\n",
       "    .dataframe tbody tr th {\n",
       "        vertical-align: top;\n",
       "    }\n",
       "\n",
       "    .dataframe thead th {\n",
       "        text-align: right;\n",
       "    }\n",
       "</style>\n",
       "<table border=\"1\" class=\"dataframe\">\n",
       "  <thead>\n",
       "    <tr style=\"text-align: right;\">\n",
       "      <th></th>\n",
       "      <th>Date</th>\n",
       "      <th>Open</th>\n",
       "      <th>High</th>\n",
       "      <th>Low</th>\n",
       "      <th>Close</th>\n",
       "      <th>Volume</th>\n",
       "    </tr>\n",
       "  </thead>\n",
       "  <tbody>\n",
       "    <tr>\n",
       "      <th>0</th>\n",
       "      <td>2015-01-02</td>\n",
       "      <td>14.858000</td>\n",
       "      <td>14.883333</td>\n",
       "      <td>14.217333</td>\n",
       "      <td>14.620667</td>\n",
       "      <td>71466000</td>\n",
       "    </tr>\n",
       "    <tr>\n",
       "      <th>1</th>\n",
       "      <td>2015-01-05</td>\n",
       "      <td>14.303333</td>\n",
       "      <td>14.433333</td>\n",
       "      <td>13.810667</td>\n",
       "      <td>14.006000</td>\n",
       "      <td>80527500</td>\n",
       "    </tr>\n",
       "    <tr>\n",
       "      <th>2</th>\n",
       "      <td>2015-01-06</td>\n",
       "      <td>14.004000</td>\n",
       "      <td>14.280000</td>\n",
       "      <td>13.614000</td>\n",
       "      <td>14.085333</td>\n",
       "      <td>93928500</td>\n",
       "    </tr>\n",
       "    <tr>\n",
       "      <th>3</th>\n",
       "      <td>2015-01-07</td>\n",
       "      <td>14.223333</td>\n",
       "      <td>14.318667</td>\n",
       "      <td>13.985333</td>\n",
       "      <td>14.063333</td>\n",
       "      <td>44526000</td>\n",
       "    </tr>\n",
       "    <tr>\n",
       "      <th>4</th>\n",
       "      <td>2015-01-08</td>\n",
       "      <td>14.187333</td>\n",
       "      <td>14.253333</td>\n",
       "      <td>14.000667</td>\n",
       "      <td>14.041333</td>\n",
       "      <td>51637500</td>\n",
       "    </tr>\n",
       "  </tbody>\n",
       "</table>\n",
       "</div>"
      ],
      "text/plain": [
       "         Date       Open       High        Low      Close    Volume\n",
       "0  2015-01-02  14.858000  14.883333  14.217333  14.620667  71466000\n",
       "1  2015-01-05  14.303333  14.433333  13.810667  14.006000  80527500\n",
       "2  2015-01-06  14.004000  14.280000  13.614000  14.085333  93928500\n",
       "3  2015-01-07  14.223333  14.318667  13.985333  14.063333  44526000\n",
       "4  2015-01-08  14.187333  14.253333  14.000667  14.041333  51637500"
      ]
     },
     "execution_count": 4,
     "metadata": {},
     "output_type": "execute_result"
    }
   ],
   "source": [
    "df.drop(['Unnamed: 0'], axis=1, inplace=True, errors='ignore')\n",
    "df.drop(['Unnamed: 0'], axis=0, inplace=True, errors='ignore')\n",
    "\n",
    "df.head()"
   ]
  },
  {
   "cell_type": "code",
   "execution_count": 5,
   "metadata": {},
   "outputs": [],
   "source": [
    "df.set_index('Date', inplace=True)"
   ]
  },
  {
   "cell_type": "code",
   "execution_count": 6,
   "metadata": {},
   "outputs": [],
   "source": [
    "# resorting the data\n",
    "df.index =  pd.to_datetime(df.index,format='%Y-%m-%d')"
   ]
  },
  {
   "cell_type": "code",
   "execution_count": 7,
   "metadata": {},
   "outputs": [
    {
     "data": {
      "text/html": [
       "<div>\n",
       "<style scoped>\n",
       "    .dataframe tbody tr th:only-of-type {\n",
       "        vertical-align: middle;\n",
       "    }\n",
       "\n",
       "    .dataframe tbody tr th {\n",
       "        vertical-align: top;\n",
       "    }\n",
       "\n",
       "    .dataframe thead th {\n",
       "        text-align: right;\n",
       "    }\n",
       "</style>\n",
       "<table border=\"1\" class=\"dataframe\">\n",
       "  <thead>\n",
       "    <tr style=\"text-align: right;\">\n",
       "      <th></th>\n",
       "      <th>Open</th>\n",
       "      <th>High</th>\n",
       "      <th>Low</th>\n",
       "      <th>Close</th>\n",
       "      <th>Volume</th>\n",
       "    </tr>\n",
       "    <tr>\n",
       "      <th>Date</th>\n",
       "      <th></th>\n",
       "      <th></th>\n",
       "      <th></th>\n",
       "      <th></th>\n",
       "      <th></th>\n",
       "    </tr>\n",
       "  </thead>\n",
       "  <tbody>\n",
       "    <tr>\n",
       "      <th>2015-01-02</th>\n",
       "      <td>14.858000</td>\n",
       "      <td>14.883333</td>\n",
       "      <td>14.217333</td>\n",
       "      <td>14.620667</td>\n",
       "      <td>71466000</td>\n",
       "    </tr>\n",
       "    <tr>\n",
       "      <th>2015-01-05</th>\n",
       "      <td>14.303333</td>\n",
       "      <td>14.433333</td>\n",
       "      <td>13.810667</td>\n",
       "      <td>14.006000</td>\n",
       "      <td>80527500</td>\n",
       "    </tr>\n",
       "    <tr>\n",
       "      <th>2015-01-06</th>\n",
       "      <td>14.004000</td>\n",
       "      <td>14.280000</td>\n",
       "      <td>13.614000</td>\n",
       "      <td>14.085333</td>\n",
       "      <td>93928500</td>\n",
       "    </tr>\n",
       "    <tr>\n",
       "      <th>2015-01-07</th>\n",
       "      <td>14.223333</td>\n",
       "      <td>14.318667</td>\n",
       "      <td>13.985333</td>\n",
       "      <td>14.063333</td>\n",
       "      <td>44526000</td>\n",
       "    </tr>\n",
       "    <tr>\n",
       "      <th>2015-01-08</th>\n",
       "      <td>14.187333</td>\n",
       "      <td>14.253333</td>\n",
       "      <td>14.000667</td>\n",
       "      <td>14.041333</td>\n",
       "      <td>51637500</td>\n",
       "    </tr>\n",
       "  </tbody>\n",
       "</table>\n",
       "</div>"
      ],
      "text/plain": [
       "                 Open       High        Low      Close    Volume\n",
       "Date                                                            \n",
       "2015-01-02  14.858000  14.883333  14.217333  14.620667  71466000\n",
       "2015-01-05  14.303333  14.433333  13.810667  14.006000  80527500\n",
       "2015-01-06  14.004000  14.280000  13.614000  14.085333  93928500\n",
       "2015-01-07  14.223333  14.318667  13.985333  14.063333  44526000\n",
       "2015-01-08  14.187333  14.253333  14.000667  14.041333  51637500"
      ]
     },
     "execution_count": 7,
     "metadata": {},
     "output_type": "execute_result"
    }
   ],
   "source": [
    "df.head()"
   ]
  },
  {
   "cell_type": "code",
   "execution_count": 8,
   "metadata": {},
   "outputs": [
    {
     "data": {
      "text/html": [
       "<div>\n",
       "<style scoped>\n",
       "    .dataframe tbody tr th:only-of-type {\n",
       "        vertical-align: middle;\n",
       "    }\n",
       "\n",
       "    .dataframe tbody tr th {\n",
       "        vertical-align: top;\n",
       "    }\n",
       "\n",
       "    .dataframe thead th {\n",
       "        text-align: right;\n",
       "    }\n",
       "</style>\n",
       "<table border=\"1\" class=\"dataframe\">\n",
       "  <thead>\n",
       "    <tr style=\"text-align: right;\">\n",
       "      <th></th>\n",
       "      <th>Open</th>\n",
       "      <th>High</th>\n",
       "      <th>Low</th>\n",
       "      <th>Close</th>\n",
       "      <th>Volume</th>\n",
       "    </tr>\n",
       "    <tr>\n",
       "      <th>Date</th>\n",
       "      <th></th>\n",
       "      <th></th>\n",
       "      <th></th>\n",
       "      <th></th>\n",
       "      <th></th>\n",
       "    </tr>\n",
       "  </thead>\n",
       "  <tbody>\n",
       "    <tr>\n",
       "      <th>2024-01-09</th>\n",
       "      <td>238.110001</td>\n",
       "      <td>238.960007</td>\n",
       "      <td>232.039993</td>\n",
       "      <td>234.960007</td>\n",
       "      <td>96705700</td>\n",
       "    </tr>\n",
       "    <tr>\n",
       "      <th>2024-01-10</th>\n",
       "      <td>235.100006</td>\n",
       "      <td>235.500000</td>\n",
       "      <td>231.289993</td>\n",
       "      <td>233.940002</td>\n",
       "      <td>91628500</td>\n",
       "    </tr>\n",
       "    <tr>\n",
       "      <th>2024-01-11</th>\n",
       "      <td>230.570007</td>\n",
       "      <td>230.929993</td>\n",
       "      <td>225.369995</td>\n",
       "      <td>227.220001</td>\n",
       "      <td>105873600</td>\n",
       "    </tr>\n",
       "    <tr>\n",
       "      <th>2024-01-12</th>\n",
       "      <td>220.080002</td>\n",
       "      <td>225.339996</td>\n",
       "      <td>217.149994</td>\n",
       "      <td>218.889999</td>\n",
       "      <td>122889000</td>\n",
       "    </tr>\n",
       "    <tr>\n",
       "      <th>2024-01-16</th>\n",
       "      <td>215.100006</td>\n",
       "      <td>223.490005</td>\n",
       "      <td>212.180099</td>\n",
       "      <td>219.910004</td>\n",
       "      <td>115064708</td>\n",
       "    </tr>\n",
       "  </tbody>\n",
       "</table>\n",
       "</div>"
      ],
      "text/plain": [
       "                  Open        High         Low       Close     Volume\n",
       "Date                                                                 \n",
       "2024-01-09  238.110001  238.960007  232.039993  234.960007   96705700\n",
       "2024-01-10  235.100006  235.500000  231.289993  233.940002   91628500\n",
       "2024-01-11  230.570007  230.929993  225.369995  227.220001  105873600\n",
       "2024-01-12  220.080002  225.339996  217.149994  218.889999  122889000\n",
       "2024-01-16  215.100006  223.490005  212.180099  219.910004  115064708"
      ]
     },
     "execution_count": 8,
     "metadata": {},
     "output_type": "execute_result"
    }
   ],
   "source": [
    "df.tail()"
   ]
  },
  {
   "cell_type": "code",
   "execution_count": 9,
   "metadata": {},
   "outputs": [
    {
     "data": {
      "text/plain": [
       "[<matplotlib.lines.Line2D at 0x21f424de230>]"
      ]
     },
     "execution_count": 9,
     "metadata": {},
     "output_type": "execute_result"
    },
    {
     "data": {
      "image/png": "[encoded data removed]",
      "text/plain": [
       "<Figure size 1800x600 with 1 Axes>"
      ]
     },
     "metadata": {},
     "output_type": "display_data"
    }
   ],
   "source": [
    "# volume = amount of stock traded during that day\n",
    "plt.figure(figsize=(18, 6))\n",
    "plt.plot(df['Volume'])   "
   ]
  },
  {
   "cell_type": "code",
   "execution_count": 10,
   "metadata": {},
   "outputs": [
    {
     "data": {
      "text/plain": [
       "Text(0.5, 1.0, 'Tesla Stock Price Graph')"
      ]
     },
     "execution_count": 10,
     "metadata": {},
     "output_type": "execute_result"
    },
    {
     "data": {
      "image/png": "[encoded data removed]",
      "text/plain": [
       "<Figure size 2000x800 with 1 Axes>"
      ]
     },
     "metadata": {},
     "output_type": "display_data"
    }
   ],
   "source": [
    "df[['Open', 'Close', 'High', 'Low']].plot(figsize=(20, 8))\n",
    "plt.title('Tesla Stock Price Graph')"
   ]
  },
  {
   "cell_type": "code",
   "execution_count": 11,
   "metadata": {},
   "outputs": [
    {
     "data": {
      "text/plain": [
       "Text(0.5, 1.0, 'Tesla Stock Price in last years')"
      ]
     },
     "execution_count": 11,
     "metadata": {},
     "output_type": "execute_result"
    },
    {
     "data": {
      "image/png": "[encoded data removed]",
      "text/plain": [
       "<Figure size 2000x1000 with 1 Axes>"
      ]
     },
     "metadata": {},
     "output_type": "display_data"
    }
   ],
   "source": [
    "prev = df['2015':'2024']\n",
    "\n",
    "prev['Open'].plot(figsize=(20, 10), alpha=1)\n",
    "plt.title(\"Tesla Stock Price in last years\")"
   ]
  },
  {
   "cell_type": "code",
   "execution_count": 12,
   "metadata": {},
   "outputs": [
    {
     "data": {
      "text/html": [
       "<div>\n",
       "<style scoped>\n",
       "    .dataframe tbody tr th:only-of-type {\n",
       "        vertical-align: middle;\n",
       "    }\n",
       "\n",
       "    .dataframe tbody tr th {\n",
       "        vertical-align: top;\n",
       "    }\n",
       "\n",
       "    .dataframe thead th {\n",
       "        text-align: right;\n",
       "    }\n",
       "</style>\n",
       "<table border=\"1\" class=\"dataframe\">\n",
       "  <thead>\n",
       "    <tr style=\"text-align: right;\">\n",
       "      <th></th>\n",
       "      <th>Open</th>\n",
       "      <th>High</th>\n",
       "      <th>Low</th>\n",
       "      <th>Close</th>\n",
       "      <th>Volume</th>\n",
       "    </tr>\n",
       "  </thead>\n",
       "  <tbody>\n",
       "    <tr>\n",
       "      <th>count</th>\n",
       "      <td>2274.000000</td>\n",
       "      <td>2274.000000</td>\n",
       "      <td>2274.000000</td>\n",
       "      <td>2274.000000</td>\n",
       "      <td>2.274000e+03</td>\n",
       "    </tr>\n",
       "    <tr>\n",
       "      <th>mean</th>\n",
       "      <td>103.493730</td>\n",
       "      <td>105.771617</td>\n",
       "      <td>101.036327</td>\n",
       "      <td>103.461794</td>\n",
       "      <td>1.142089e+08</td>\n",
       "    </tr>\n",
       "    <tr>\n",
       "      <th>std</th>\n",
       "      <td>111.136174</td>\n",
       "      <td>113.606095</td>\n",
       "      <td>108.399966</td>\n",
       "      <td>111.032019</td>\n",
       "      <td>7.688430e+07</td>\n",
       "    </tr>\n",
       "    <tr>\n",
       "      <th>min</th>\n",
       "      <td>9.488000</td>\n",
       "      <td>10.331333</td>\n",
       "      <td>9.403333</td>\n",
       "      <td>9.578000</td>\n",
       "      <td>1.062000e+07</td>\n",
       "    </tr>\n",
       "    <tr>\n",
       "      <th>25%</th>\n",
       "      <td>16.669833</td>\n",
       "      <td>16.933332</td>\n",
       "      <td>16.468833</td>\n",
       "      <td>16.693666</td>\n",
       "      <td>6.637762e+07</td>\n",
       "    </tr>\n",
       "    <tr>\n",
       "      <th>50%</th>\n",
       "      <td>23.221334</td>\n",
       "      <td>23.554000</td>\n",
       "      <td>22.842334</td>\n",
       "      <td>23.197333</td>\n",
       "      <td>9.359855e+07</td>\n",
       "    </tr>\n",
       "    <tr>\n",
       "      <th>75%</th>\n",
       "      <td>215.272503</td>\n",
       "      <td>219.629173</td>\n",
       "      <td>208.983334</td>\n",
       "      <td>215.227497</td>\n",
       "      <td>1.338214e+08</td>\n",
       "    </tr>\n",
       "    <tr>\n",
       "      <th>max</th>\n",
       "      <td>411.470001</td>\n",
       "      <td>414.496674</td>\n",
       "      <td>405.666656</td>\n",
       "      <td>409.970001</td>\n",
       "      <td>9.140820e+08</td>\n",
       "    </tr>\n",
       "  </tbody>\n",
       "</table>\n",
       "</div>"
      ],
      "text/plain": [
       "              Open         High          Low        Close        Volume\n",
       "count  2274.000000  2274.000000  2274.000000  2274.000000  2.274000e+03\n",
       "mean    103.493730   105.771617   101.036327   103.461794  1.142089e+08\n",
       "std     111.136174   113.606095   108.399966   111.032019  7.688430e+07\n",
       "min       9.488000    10.331333     9.403333     9.578000  1.062000e+07\n",
       "25%      16.669833    16.933332    16.468833    16.693666  6.637762e+07\n",
       "50%      23.221334    23.554000    22.842334    23.197333  9.359855e+07\n",
       "75%     215.272503   219.629173   208.983334   215.227497  1.338214e+08\n",
       "max     411.470001   414.496674   405.666656   409.970001  9.140820e+08"
      ]
     },
     "execution_count": 12,
     "metadata": {},
     "output_type": "execute_result"
    }
   ],
   "source": [
    "prev.describe()"
   ]
  },
  {
   "cell_type": "markdown",
   "metadata": {},
   "source": [
    "# Augmented Dickey Fuller Test (ADF)"
   ]
  },
  {
   "cell_type": "markdown",
   "metadata": {},
   "source": [
    "ADF test is used to determine the presense of unit root in the series, and hence helps in understand if the series is stationary or not"
   ]
  },
  {
   "cell_type": "markdown",
   "metadata": {},
   "source": [
    "Test Statistic < all critical values && p-value < 0.05 ==> time series in stationary region"
   ]
  },
  {
   "cell_type": "code",
   "execution_count": 13,
   "metadata": {},
   "outputs": [],
   "source": [
    "from statsmodels.tsa.stattools import adfuller\n",
    "\n",
    "def adf_test(timeseries):\n",
    "    # Perform Dickey-Fuller test:\n",
    "    print(\"Result of Dickey-Fuller Test:\")\n",
    "    dftest = adfuller(timeseries, autolag='AIC')\n",
    "    dfoutput = pd.Series(dftest[0:4], index=['Test Statistic', 'p-value', '#Lags-Used', 'number of observations used'])\n",
    "\n",
    "    for key, value in dftest[4].items():\n",
    "        dfoutput['Critical Value (%s)'%key] = value\n",
    "        \n",
    "    print(dfoutput)\n",
    "    "
   ]
  },
  {
   "cell_type": "code",
   "execution_count": 14,
   "metadata": {},
   "outputs": [
    {
     "name": "stdout",
     "output_type": "stream",
     "text": [
      "Result of Dickey-Fuller Test:\n",
      "Test Statistic                   -1.150079\n",
      "p-value                           0.694694\n",
      "#Lags-Used                       27.000000\n",
      "number of observations used    2246.000000\n",
      "Critical Value (1%)              -3.433265\n",
      "Critical Value (5%)              -2.862828\n",
      "Critical Value (10%)             -2.567456\n",
      "dtype: float64\n"
     ]
    }
   ],
   "source": [
    "adf_test(df['High'])"
   ]
  },
  {
   "cell_type": "code",
   "execution_count": 15,
   "metadata": {},
   "outputs": [
    {
     "name": "stdout",
     "output_type": "stream",
     "text": [
      "Result of Dickey-Fuller Test:\n",
      "Test Statistic                 -1.129396\n",
      "p-value                         0.703208\n",
      "#Lags-Used                     10.000000\n",
      "number of observations used    98.000000\n",
      "Critical Value (1%)            -3.498910\n",
      "Critical Value (5%)            -2.891516\n",
      "Critical Value (10%)           -2.582760\n",
      "dtype: float64\n",
      "None\n"
     ]
    }
   ],
   "source": [
    "print(adf_test(df['High'].resample('MS').mean()))"
   ]
  },
  {
   "cell_type": "code",
   "execution_count": 16,
   "metadata": {},
   "outputs": [
    {
     "name": "stdout",
     "output_type": "stream",
     "text": [
      "Result of Dickey-Fuller Test:\n",
      "Test Statistic                 -2.399346\n",
      "p-value                         0.141921\n",
      "#Lags-Used                      9.000000\n",
      "number of observations used    98.000000\n",
      "Critical Value (1%)            -3.498910\n",
      "Critical Value (5%)            -2.891516\n",
      "Critical Value (10%)           -2.582760\n",
      "dtype: float64\n",
      "None\n"
     ]
    },
    {
     "data": {
      "image/png": "[encoded data removed]",
      "text/plain": [
       "<Figure size 640x480 with 1 Axes>"
      ]
     },
     "metadata": {},
     "output_type": "display_data"
    }
   ],
   "source": [
    "prev_diff = prev['Open'].resample('MS').mean() - prev['Open'].resample('MS').mean().shift(1)\n",
    "prev_open_diff = prev_diff.dropna()\n",
    "prev_open_diff.plot()\n",
    "\n",
    "print(adf_test(prev_open_diff))"
   ]
  },
  {
   "cell_type": "markdown",
   "metadata": {},
   "source": [
    "# Kwiatkowski-Phillips-Schmidt-Shin Test (KPSS)"
   ]
  },
  {
   "cell_type": "markdown",
   "metadata": {},
   "source": [
    "another test for checking the stationarity of a time series"
   ]
  },
  {
   "cell_type": "code",
   "execution_count": 17,
   "metadata": {},
   "outputs": [],
   "source": [
    "from statsmodels.tsa.stattools import kpss\n",
    "\n",
    "def kpss_test(timeseries):\n",
    "    print(\"Results of KPSS Test:\")\n",
    "    kpsstest = kpss(timeseries, regression=\"c\", nlags=\"auto\")\n",
    "    kpss_output = pd.Series(\n",
    "        kpsstest[0:3], index=['Test Statistic', 'p-value', \"Lags Used\"]\n",
    "    )\n",
    "    for key, value in kpsstest[3].items():\n",
    "        kpss_output[\"Critical Value (%s)\"% key] = value\n",
    "    \n",
    "    print(kpss_output)"
   ]
  },
  {
   "cell_type": "code",
   "execution_count": 18,
   "metadata": {},
   "outputs": [
    {
     "name": "stdout",
     "output_type": "stream",
     "text": [
      "Results of KPSS Test:\n",
      "Test Statistic            5.841427\n",
      "p-value                   0.010000\n",
      "Lags Used                29.000000\n",
      "Critical Value (10%)      0.347000\n",
      "Critical Value (5%)       0.463000\n",
      "Critical Value (2.5%)     0.574000\n",
      "Critical Value (1%)       0.739000\n",
      "dtype: float64\n"
     ]
    },
    {
     "name": "stderr",
     "output_type": "stream",
     "text": [
      "C:\\Users\\rupes\\AppData\\Local\\Temp\\ipykernel_6044\\287796797.py:5: InterpolationWarning:\n",
      "\n",
      "The test statistic is outside of the range of p-values available in the\n",
      "look-up table. The actual p-value is smaller than the p-value returned.\n",
      "\n",
      "\n"
     ]
    }
   ],
   "source": [
    "kpss_test(prev['High'])"
   ]
  },
  {
   "cell_type": "code",
   "execution_count": 19,
   "metadata": {},
   "outputs": [
    {
     "data": {
      "text/plain": [
       "<Axes: xlabel='Date'>"
      ]
     },
     "execution_count": 19,
     "metadata": {},
     "output_type": "execute_result"
    },
    {
     "data": {
      "image/png": "[encoded data removed]",
      "text/plain": [
       "<Figure size 1200x800 with 1 Axes>"
      ]
     },
     "metadata": {},
     "output_type": "display_data"
    }
   ],
   "source": [
    "prev['High_diff'] = prev['High'] - prev['High'].shift(1)\n",
    "prev['High_diff'].dropna().plot(figsize=(12, 8))"
   ]
  },
  {
   "cell_type": "code",
   "execution_count": 20,
   "metadata": {},
   "outputs": [
    {
     "name": "stdout",
     "output_type": "stream",
     "text": [
      "Results of KPSS Test:\n",
      "Test Statistic           0.067982\n",
      "p-value                  0.100000\n",
      "Lags Used                9.000000\n",
      "Critical Value (10%)     0.347000\n",
      "Critical Value (5%)      0.463000\n",
      "Critical Value (2.5%)    0.574000\n",
      "Critical Value (1%)      0.739000\n",
      "dtype: float64\n"
     ]
    },
    {
     "name": "stderr",
     "output_type": "stream",
     "text": [
      "C:\\Users\\rupes\\AppData\\Local\\Temp\\ipykernel_6044\\287796797.py:5: InterpolationWarning:\n",
      "\n",
      "The test statistic is outside of the range of p-values available in the\n",
      "look-up table. The actual p-value is greater than the p-value returned.\n",
      "\n",
      "\n"
     ]
    }
   ],
   "source": [
    "kpss_test(prev['High_diff'].dropna())"
   ]
  },
  {
   "cell_type": "code",
   "execution_count": 21,
   "metadata": {},
   "outputs": [
    {
     "name": "stdout",
     "output_type": "stream",
     "text": [
      "Results of KPSS Test:\n",
      "Test Statistic           0.067982\n",
      "p-value                  0.100000\n",
      "Lags Used                9.000000\n",
      "Critical Value (10%)     0.347000\n",
      "Critical Value (5%)      0.463000\n",
      "Critical Value (2.5%)    0.574000\n",
      "Critical Value (1%)      0.739000\n",
      "dtype: float64\n"
     ]
    },
    {
     "name": "stderr",
     "output_type": "stream",
     "text": [
      "C:\\Users\\rupes\\AppData\\Local\\Temp\\ipykernel_6044\\287796797.py:5: InterpolationWarning:\n",
      "\n",
      "The test statistic is outside of the range of p-values available in the\n",
      "look-up table. The actual p-value is greater than the p-value returned.\n",
      "\n",
      "\n"
     ]
    }
   ],
   "source": [
    "kpss_test(prev['High_diff'].dropna())"
   ]
  },
  {
   "cell_type": "code",
   "execution_count": 22,
   "metadata": {},
   "outputs": [
    {
     "name": "stdout",
     "output_type": "stream",
     "text": [
      "Results of KPSS Test:\n",
      "Test Statistic           0.094041\n",
      "p-value                  0.100000\n",
      "Lags Used                6.000000\n",
      "Critical Value (10%)     0.347000\n",
      "Critical Value (5%)      0.463000\n",
      "Critical Value (2.5%)    0.574000\n",
      "Critical Value (1%)      0.739000\n",
      "dtype: float64\n"
     ]
    },
    {
     "name": "stderr",
     "output_type": "stream",
     "text": [
      "C:\\Users\\rupes\\AppData\\Local\\Temp\\ipykernel_6044\\287796797.py:5: InterpolationWarning:\n",
      "\n",
      "The test statistic is outside of the range of p-values available in the\n",
      "look-up table. The actual p-value is greater than the p-value returned.\n",
      "\n",
      "\n"
     ]
    }
   ],
   "source": [
    "kpss_test(prev['High_diff'].resample('MS').mean().dropna())"
   ]
  },
  {
   "cell_type": "code",
   "execution_count": 23,
   "metadata": {},
   "outputs": [
    {
     "name": "stdout",
     "output_type": "stream",
     "text": [
      "Results of KPSS Test:\n",
      "Test Statistic           1.214376\n",
      "p-value                  0.010000\n",
      "Lags Used                6.000000\n",
      "Critical Value (10%)     0.347000\n",
      "Critical Value (5%)      0.463000\n",
      "Critical Value (2.5%)    0.574000\n",
      "Critical Value (1%)      0.739000\n",
      "dtype: float64\n"
     ]
    },
    {
     "name": "stderr",
     "output_type": "stream",
     "text": [
      "C:\\Users\\rupes\\AppData\\Local\\Temp\\ipykernel_6044\\287796797.py:5: InterpolationWarning:\n",
      "\n",
      "The test statistic is outside of the range of p-values available in the\n",
      "look-up table. The actual p-value is smaller than the p-value returned.\n",
      "\n",
      "\n"
     ]
    }
   ],
   "source": [
    "kpss_test(prev['High_diff'].resample('MS').std().dropna())"
   ]
  },
  {
   "cell_type": "code",
   "execution_count": 24,
   "metadata": {},
   "outputs": [
    {
     "name": "stdout",
     "output_type": "stream",
     "text": [
      "Result of Dickey-Fuller Test:\n",
      "Test Statistic                -9.395753e+00\n",
      "p-value                        6.381356e-16\n",
      "#Lags-Used                     2.600000e+01\n",
      "number of observations used    2.246000e+03\n",
      "Critical Value (1%)           -3.433265e+00\n",
      "Critical Value (5%)           -2.862828e+00\n",
      "Critical Value (10%)          -2.567456e+00\n",
      "dtype: float64\n"
     ]
    }
   ],
   "source": [
    "adf_test(prev['High_diff'].dropna())"
   ]
  },
  {
   "cell_type": "markdown",
   "metadata": {},
   "source": [
    "# Data Preprocessing"
   ]
  },
  {
   "cell_type": "code",
   "execution_count": 25,
   "metadata": {},
   "outputs": [],
   "source": [
    "train_prev = prev['High'].iloc[:-4]\n",
    "\n",
    "X = []\n",
    "Y = []\n",
    "\n",
    "for i in range(2, len(train_prev)):\n",
    "    X.append(train_prev[i-2:i])\n",
    "    Y.append(train_prev[i])"
   ]
  },
  {
   "cell_type": "code",
   "execution_count": 26,
   "metadata": {},
   "outputs": [
    {
     "data": {
      "text/plain": [
       "1816"
      ]
     },
     "execution_count": 26,
     "metadata": {},
     "output_type": "execute_result"
    }
   ],
   "source": [
    "import math\n",
    "train_len = math.ceil(len(train_prev)*0.8)\n",
    "train_len"
   ]
  },
  {
   "cell_type": "code",
   "execution_count": 27,
   "metadata": {},
   "outputs": [],
   "source": [
    "x_train, y_train = np.array(X), np.array(Y)\n",
    "x_train = np.reshape(x_train, (x_train.shape[0], x_train.shape[1], 1))"
   ]
  },
  {
   "cell_type": "markdown",
   "metadata": {},
   "source": [
    "# Build LSTM Model"
   ]
  },
  {
   "cell_type": "code",
   "execution_count": 28,
   "metadata": {},
   "outputs": [],
   "source": [
    "# Function to create a more complex LSTM model\n",
    "def build_lstm_model(input_shape, learning_rate=0.001, dropout_rate=0.3):\n",
    "    model = Sequential()\n",
    "    # First LSTM layer with Batch Normalization\n",
    "    model.add(LSTM(100, return_sequences=True, input_shape=input_shape))\n",
    "    model.add(BatchNormalization())\n",
    "    # Second LSTM layer\n",
    "    model.add(LSTM(100, return_sequences=False))\n",
    "    model.add(Dropout(dropout_rate))\n",
    "    # Third LSTM layer\n",
    "    model.add(Dense(50, activation='relu'))\n",
    "    model.add(Dropout(dropout_rate))\n",
    "    # Output layer\n",
    "    model.add(Dense(1))\n",
    "    # Compile the model\n",
    "    optimizer = Adam(learning_rate=learning_rate)\n",
    "    model.compile(loss='mean_squared_error', optimizer=optimizer)\n",
    "    \n",
    "    return model"
   ]
  },
  {
   "cell_type": "code",
   "execution_count": 29,
   "metadata": {},
   "outputs": [],
   "source": [
    "input_shape = (x_train.shape[1], 1)\n",
    "model = build_lstm_model(input_shape)"
   ]
  },
  {
   "cell_type": "code",
   "execution_count": 30,
   "metadata": {},
   "outputs": [
    {
     "name": "stdout",
     "output_type": "stream",
     "text": [
      "Model: \"sequential\"\n",
      "_________________________________________________________________\n",
      " Layer (type)                Output Shape              Param #   \n",
      "=================================================================\n",
      " lstm (LSTM)                 (None, 2, 100)            40800     \n",
      "                                                                 \n",
      " batch_normalization (BatchN  (None, 2, 100)           400       \n",
      " ormalization)                                                   \n",
      "                                                                 \n",
      " lstm_1 (LSTM)               (None, 100)               80400     \n",
      "                                                                 \n",
      " dropout (Dropout)           (None, 100)               0         \n",
      "                                                                 \n",
      " dense (Dense)               (None, 50)                5050      \n",
      "                                                                 \n",
      " dropout_1 (Dropout)         (None, 50)                0         \n",
      "                                                                 \n",
      " dense_1 (Dense)             (None, 1)                 51        \n",
      "                                                                 \n",
      "=================================================================\n",
      "Total params: 126,701\n",
      "Trainable params: 126,501\n",
      "Non-trainable params: 200\n",
      "_________________________________________________________________\n"
     ]
    }
   ],
   "source": [
    "model.summary()"
   ]
  },
  {
   "cell_type": "code",
   "execution_count": 31,
   "metadata": {},
   "outputs": [],
   "source": [
    "# Callbacks\n",
    "early_stopping = EarlyStopping(monitor='val_loss', patience=10, restore_best_weights=True)\n",
    "reduce_lr = ReduceLROnPlateau(monitor='val_loss', factor=0.2, patience=5, min_lr=0.0001)"
   ]
  },
  {
   "cell_type": "code",
   "execution_count": 32,
   "metadata": {},
   "outputs": [
    {
     "name": "stdout",
     "output_type": "stream",
     "text": [
      "Epoch 1/100\n",
      "31/31 - 5s - loss: 17982.2500 - val_loss: 47179.6055 - lr: 0.0010 - 5s/epoch - 155ms/step\n",
      "Epoch 2/100\n",
      "31/31 - 0s - loss: 14890.9922 - val_loss: 37846.5391 - lr: 0.0010 - 241ms/epoch - 8ms/step\n",
      "Epoch 3/100\n",
      "31/31 - 0s - loss: 11719.5654 - val_loss: 27366.7500 - lr: 0.0010 - 239ms/epoch - 8ms/step\n",
      "Epoch 4/100\n",
      "31/31 - 0s - loss: 8523.4688 - val_loss: 17895.0332 - lr: 0.0010 - 290ms/epoch - 9ms/step\n",
      "Epoch 5/100\n",
      "31/31 - 0s - loss: 5772.2173 - val_loss: 9955.0361 - lr: 0.0010 - 256ms/epoch - 8ms/step\n",
      "Epoch 6/100\n",
      "31/31 - 0s - loss: 3796.3066 - val_loss: 4647.2529 - lr: 0.0010 - 275ms/epoch - 9ms/step\n",
      "Epoch 7/100\n",
      "31/31 - 0s - loss: 2323.2124 - val_loss: 2125.1858 - lr: 0.0010 - 267ms/epoch - 9ms/step\n",
      "Epoch 8/100\n",
      "31/31 - 0s - loss: 1737.8392 - val_loss: 1390.3943 - lr: 0.0010 - 323ms/epoch - 10ms/step\n",
      "Epoch 9/100\n",
      "31/31 - 0s - loss: 1245.1293 - val_loss: 612.7666 - lr: 0.0010 - 260ms/epoch - 8ms/step\n",
      "Epoch 10/100\n",
      "31/31 - 0s - loss: 983.7598 - val_loss: 248.3935 - lr: 0.0010 - 259ms/epoch - 8ms/step\n",
      "Epoch 11/100\n",
      "31/31 - 0s - loss: 877.6456 - val_loss: 477.9211 - lr: 0.0010 - 254ms/epoch - 8ms/step\n",
      "Epoch 12/100\n",
      "31/31 - 0s - loss: 678.1818 - val_loss: 256.7712 - lr: 0.0010 - 239ms/epoch - 8ms/step\n",
      "Epoch 13/100\n",
      "31/31 - 0s - loss: 687.0679 - val_loss: 1202.6969 - lr: 0.0010 - 240ms/epoch - 8ms/step\n",
      "Epoch 14/100\n",
      "31/31 - 0s - loss: 700.0499 - val_loss: 348.0657 - lr: 0.0010 - 241ms/epoch - 8ms/step\n",
      "Epoch 15/100\n",
      "31/31 - 0s - loss: 627.7111 - val_loss: 1430.3932 - lr: 0.0010 - 254ms/epoch - 8ms/step\n",
      "Epoch 16/100\n",
      "31/31 - 0s - loss: 574.2344 - val_loss: 156.6442 - lr: 2.0000e-04 - 260ms/epoch - 8ms/step\n",
      "Epoch 17/100\n",
      "31/31 - 0s - loss: 529.2952 - val_loss: 80.8073 - lr: 2.0000e-04 - 259ms/epoch - 8ms/step\n",
      "Epoch 18/100\n",
      "31/31 - 0s - loss: 520.0035 - val_loss: 67.8270 - lr: 2.0000e-04 - 249ms/epoch - 8ms/step\n",
      "Epoch 19/100\n",
      "31/31 - 0s - loss: 497.4878 - val_loss: 77.6487 - lr: 2.0000e-04 - 240ms/epoch - 8ms/step\n",
      "Epoch 20/100\n",
      "31/31 - 0s - loss: 582.7114 - val_loss: 81.1658 - lr: 2.0000e-04 - 255ms/epoch - 8ms/step\n",
      "Epoch 21/100\n",
      "31/31 - 0s - loss: 511.4763 - val_loss: 73.4487 - lr: 2.0000e-04 - 258ms/epoch - 8ms/step\n",
      "Epoch 22/100\n",
      "31/31 - 0s - loss: 544.4973 - val_loss: 74.7299 - lr: 2.0000e-04 - 253ms/epoch - 8ms/step\n",
      "Epoch 23/100\n",
      "31/31 - 0s - loss: 500.1196 - val_loss: 84.0421 - lr: 2.0000e-04 - 258ms/epoch - 8ms/step\n",
      "Epoch 24/100\n",
      "31/31 - 0s - loss: 544.9117 - val_loss: 62.3534 - lr: 1.0000e-04 - 251ms/epoch - 8ms/step\n",
      "Epoch 25/100\n",
      "31/31 - 0s - loss: 464.5944 - val_loss: 91.5087 - lr: 1.0000e-04 - 238ms/epoch - 8ms/step\n",
      "Epoch 26/100\n",
      "31/31 - 0s - loss: 509.0264 - val_loss: 74.9365 - lr: 1.0000e-04 - 233ms/epoch - 8ms/step\n",
      "Epoch 27/100\n",
      "31/31 - 0s - loss: 550.3440 - val_loss: 84.4395 - lr: 1.0000e-04 - 233ms/epoch - 8ms/step\n",
      "Epoch 28/100\n",
      "31/31 - 0s - loss: 488.1226 - val_loss: 79.9879 - lr: 1.0000e-04 - 255ms/epoch - 8ms/step\n",
      "Epoch 29/100\n",
      "31/31 - 0s - loss: 459.0727 - val_loss: 72.9512 - lr: 1.0000e-04 - 249ms/epoch - 8ms/step\n",
      "Epoch 30/100\n",
      "31/31 - 0s - loss: 486.4480 - val_loss: 63.9484 - lr: 1.0000e-04 - 255ms/epoch - 8ms/step\n",
      "Epoch 31/100\n",
      "31/31 - 0s - loss: 495.2283 - val_loss: 58.1561 - lr: 1.0000e-04 - 255ms/epoch - 8ms/step\n",
      "Epoch 32/100\n",
      "31/31 - 0s - loss: 483.5919 - val_loss: 58.1764 - lr: 1.0000e-04 - 252ms/epoch - 8ms/step\n",
      "Epoch 33/100\n",
      "31/31 - 0s - loss: 475.3835 - val_loss: 114.0790 - lr: 1.0000e-04 - 255ms/epoch - 8ms/step\n",
      "Epoch 34/100\n",
      "31/31 - 0s - loss: 526.6593 - val_loss: 58.2547 - lr: 1.0000e-04 - 261ms/epoch - 8ms/step\n",
      "Epoch 35/100\n",
      "31/31 - 0s - loss: 495.0857 - val_loss: 73.2795 - lr: 1.0000e-04 - 258ms/epoch - 8ms/step\n",
      "Epoch 36/100\n",
      "31/31 - 0s - loss: 510.0111 - val_loss: 66.0624 - lr: 1.0000e-04 - 259ms/epoch - 8ms/step\n",
      "Epoch 37/100\n",
      "31/31 - 0s - loss: 515.9951 - val_loss: 59.6255 - lr: 1.0000e-04 - 250ms/epoch - 8ms/step\n",
      "Epoch 38/100\n",
      "31/31 - 0s - loss: 480.0359 - val_loss: 66.9874 - lr: 1.0000e-04 - 269ms/epoch - 9ms/step\n",
      "Epoch 39/100\n",
      "31/31 - 0s - loss: 441.2703 - val_loss: 144.7262 - lr: 1.0000e-04 - 243ms/epoch - 8ms/step\n",
      "Epoch 40/100\n",
      "31/31 - 0s - loss: 534.0764 - val_loss: 190.5914 - lr: 1.0000e-04 - 286ms/epoch - 9ms/step\n",
      "Epoch 41/100\n",
      "31/31 - 0s - loss: 506.1086 - val_loss: 65.3494 - lr: 1.0000e-04 - 249ms/epoch - 8ms/step\n"
     ]
    }
   ],
   "source": [
    "history = model.fit(x_train, y_train, epochs=100, batch_size=64, \n",
    "                    verbose=2, validation_split=0.15, \n",
    "                    callbacks=[early_stopping, reduce_lr])"
   ]
  },
  {
   "cell_type": "code",
   "execution_count": 33,
   "metadata": {},
   "outputs": [
    {
     "data": {
      "text/plain": [
       "<Axes: >"
      ]
     },
     "execution_count": 33,
     "metadata": {},
     "output_type": "execute_result"
    },
    {
     "data": {
      "image/png": "[encoded data removed]",
      "text/plain": [
       "<Figure size 640x480 with 1 Axes>"
      ]
     },
     "metadata": {},
     "output_type": "display_data"
    }
   ],
   "source": [
    "# loss\n",
    "losses = pd.DataFrame(history.history)\n",
    "losses[['loss', 'val_loss']].plot()"
   ]
  },
  {
   "cell_type": "markdown",
   "metadata": {},
   "source": [
    "Prepare the validation data"
   ]
  },
  {
   "cell_type": "code",
   "execution_count": 34,
   "metadata": {},
   "outputs": [],
   "source": [
    "test_data = train_prev[train_len-2:]\n",
    "x_val, y_val = [], []\n",
    "\n",
    "for i in range(2, len(test_data)):\n",
    "    x_val.append(test_data[i-2:i])\n",
    "    y_val.append(test_data[i])"
   ]
  },
  {
   "cell_type": "code",
   "execution_count": 35,
   "metadata": {},
   "outputs": [],
   "source": [
    "x_val, y_val = np.array(x_val), np.array(y_val)\n",
    "x_val = np.reshape(x_val, (x_val.shape[0], x_val.shape[1], 1))"
   ]
  },
  {
   "cell_type": "markdown",
   "metadata": {},
   "source": [
    "# Making Predictions"
   ]
  },
  {
   "cell_type": "code",
   "execution_count": 36,
   "metadata": {},
   "outputs": [
    {
     "name": "stdout",
     "output_type": "stream",
     "text": [
      "15/15 [==============================] - 1s 2ms/step\n"
     ]
    }
   ],
   "source": [
    "predictions = model.predict(x_val)"
   ]
  },
  {
   "cell_type": "code",
   "execution_count": 37,
   "metadata": {},
   "outputs": [
    {
     "name": "stdout",
     "output_type": "stream",
     "text": [
      "71/71 [==============================] - 0s 3ms/step\n",
      "15/15 [==============================] - 0s 2ms/step\n",
      "Train rmse 9.103492499571038\n",
      "Validation loss 10.313973361749921\n"
     ]
    }
   ],
   "source": [
    "from sklearn.metrics import mean_squared_error\n",
    "lstm_train_pred = model.predict(x_train)\n",
    "lstm_val_pred = model.predict(x_val)\n",
    "print('Train rmse', np.sqrt(mean_squared_error(y_train, lstm_train_pred)))\n",
    "print('Validation loss', np.sqrt(mean_squared_error(y_val, lstm_val_pred)))\n"
   ]
  },
  {
   "cell_type": "code",
   "execution_count": 39,
   "metadata": {},
   "outputs": [
    {
     "data": {
      "image/png": "[encoded data removed]",
      "text/plain": [
       "<Figure size 1600x1000 with 1 Axes>"
      ]
     },
     "metadata": {},
     "output_type": "display_data"
    }
   ],
   "source": [
    "val = pd.DataFrame(train_prev[train_len:])\n",
    "val['Predictions'] = lstm_val_pred\n",
    "plt.figure(figsize=(16, 10))\n",
    "plt.plot(val[['High', 'Predictions']])\n",
    "plt.legend(['Validation', 'Predictions'])\n",
    "plt.show()\n"
   ]
  },
  {
   "cell_type": "markdown",
   "metadata": {},
   "source": [
    "Error calculation between real and predicted"
   ]
  },
  {
   "cell_type": "code",
   "execution_count": 40,
   "metadata": {},
   "outputs": [
    {
     "data": {
      "text/html": [
       "<div>\n",
       "<style scoped>\n",
       "    .dataframe tbody tr th:only-of-type {\n",
       "        vertical-align: middle;\n",
       "    }\n",
       "\n",
       "    .dataframe tbody tr th {\n",
       "        vertical-align: top;\n",
       "    }\n",
       "\n",
       "    .dataframe thead th {\n",
       "        text-align: right;\n",
       "    }\n",
       "</style>\n",
       "<table border=\"1\" class=\"dataframe\">\n",
       "  <thead>\n",
       "    <tr style=\"text-align: right;\">\n",
       "      <th></th>\n",
       "      <th>0</th>\n",
       "    </tr>\n",
       "  </thead>\n",
       "  <tbody>\n",
       "    <tr>\n",
       "      <th>count</th>\n",
       "      <td>454.000000</td>\n",
       "    </tr>\n",
       "    <tr>\n",
       "      <th>mean</th>\n",
       "      <td>3.128276</td>\n",
       "    </tr>\n",
       "    <tr>\n",
       "      <th>std</th>\n",
       "      <td>9.838962</td>\n",
       "    </tr>\n",
       "    <tr>\n",
       "      <th>min</th>\n",
       "      <td>-21.026123</td>\n",
       "    </tr>\n",
       "    <tr>\n",
       "      <th>25%</th>\n",
       "      <td>-2.725349</td>\n",
       "    </tr>\n",
       "    <tr>\n",
       "      <th>50%</th>\n",
       "      <td>2.665054</td>\n",
       "    </tr>\n",
       "    <tr>\n",
       "      <th>75%</th>\n",
       "      <td>8.128391</td>\n",
       "    </tr>\n",
       "    <tr>\n",
       "      <th>max</th>\n",
       "      <td>54.261688</td>\n",
       "    </tr>\n",
       "  </tbody>\n",
       "</table>\n",
       "</div>"
      ],
      "text/plain": [
       "                0\n",
       "count  454.000000\n",
       "mean     3.128276\n",
       "std      9.838962\n",
       "min    -21.026123\n",
       "25%     -2.725349\n",
       "50%      2.665054\n",
       "75%      8.128391\n",
       "max     54.261688"
      ]
     },
     "execution_count": 40,
     "metadata": {},
     "output_type": "execute_result"
    }
   ],
   "source": [
    "variance = []\n",
    "for i in range(len(val)):\n",
    "    variance.append(val['High'][i] - val['Predictions'][i])\n",
    "\n",
    "variance = pd.DataFrame(variance)\n",
    "variance.describe()"
   ]
  },
  {
   "cell_type": "code",
   "execution_count": 41,
   "metadata": {},
   "outputs": [
    {
     "data": {
      "image/png": "[encoded data removed]",
      "text/plain": [
       "<Figure size 1600x1000 with 1 Axes>"
      ]
     },
     "metadata": {},
     "output_type": "display_data"
    }
   ],
   "source": [
    "train = train_prev[:train_len]\n",
    "val = pd.DataFrame(train_prev[train_len:])\n",
    "val['Predictions'] = lstm_val_pred\n",
    "\n",
    "plt.figure(figsize=(16, 10))\n",
    "plt.title('Mode LSTM')\n",
    "plt.xlabel('date')\n",
    "plt.ylabel('Price in USD')\n",
    "plt.plot(train)\n",
    "plt.plot(val[['High', 'Predictions']])\n",
    "plt.legend(['Train', 'VAl', 'Predictions'])\n",
    "plt.show()"
   ]
  },
  {
   "cell_type": "markdown",
   "metadata": {},
   "source": [
    "# Generate Predicitons for next 30 days"
   ]
  },
  {
   "cell_type": "code",
   "execution_count": 42,
   "metadata": {},
   "outputs": [],
   "source": [
    "forecast_input = x_val[-1:]"
   ]
  },
  {
   "cell_type": "code",
   "execution_count": 43,
   "metadata": {},
   "outputs": [
    {
     "name": "stdout",
     "output_type": "stream",
     "text": [
      "1/1 [==============================] - 0s 29ms/step\n",
      "1/1 [==============================] - 0s 21ms/step\n",
      "1/1 [==============================] - 0s 19ms/step\n",
      "1/1 [==============================] - 0s 23ms/step\n",
      "1/1 [==============================] - 0s 24ms/step\n",
      "1/1 [==============================] - 0s 21ms/step\n",
      "1/1 [==============================] - 0s 19ms/step\n",
      "1/1 [==============================] - 0s 20ms/step\n",
      "1/1 [==============================] - 0s 20ms/step\n",
      "1/1 [==============================] - 0s 20ms/step\n",
      "1/1 [==============================] - 0s 21ms/step\n",
      "1/1 [==============================] - 0s 27ms/step\n",
      "1/1 [==============================] - 0s 20ms/step\n",
      "1/1 [==============================] - 0s 20ms/step\n",
      "1/1 [==============================] - 0s 19ms/step\n",
      "1/1 [==============================] - 0s 21ms/step\n",
      "1/1 [==============================] - 0s 20ms/step\n",
      "1/1 [==============================] - 0s 20ms/step\n",
      "1/1 [==============================] - 0s 21ms/step\n",
      "1/1 [==============================] - 0s 21ms/step\n",
      "1/1 [==============================] - 0s 22ms/step\n",
      "1/1 [==============================] - 0s 19ms/step\n",
      "1/1 [==============================] - 0s 21ms/step\n",
      "1/1 [==============================] - 0s 20ms/step\n",
      "1/1 [==============================] - 0s 20ms/step\n",
      "1/1 [==============================] - 0s 20ms/step\n",
      "1/1 [==============================] - 0s 19ms/step\n",
      "1/1 [==============================] - 0s 20ms/step\n",
      "1/1 [==============================] - 0s 19ms/step\n",
      "1/1 [==============================] - 0s 19ms/step\n"
     ]
    }
   ],
   "source": [
    "def forecast_next_30_days(model, initial_data, days_to_predict=31):  # Change to 31\n",
    "    prediction_list = initial_data.tolist()\n",
    "\n",
    "    for _ in range(days_to_predict):\n",
    "        x = np.array(prediction_list[-2:]).reshape(1, 2, 1)\n",
    "        next_prediction = model.predict(x)[0, 0]\n",
    "        prediction_list.append(next_prediction.item())\n",
    "\n",
    "    return prediction_list[2:]\n",
    "\n",
    "next_30_days = forecast_next_30_days(model, forecast_input.flatten(), 30)"
   ]
  },
  {
   "cell_type": "code",
   "execution_count": 50,
   "metadata": {},
   "outputs": [],
   "source": [
    "import matplotlib.pyplot as plt\n",
    "import numpy as np\n",
    "\n",
    "def plot_predictions(existing_data, next_30_days, title=\"Predictions for Next 30 Days\"):\n",
    "    existing_data_flat = existing_data.flatten()\n",
    "    total_data = np.concatenate((existing_data_flat, next_30_days))\n",
    "    days = np.arange(len(total_data))\n",
    "\n",
    "    plt.figure(figsize=(10, 6))\n",
    "    plt.plot(days[:len(existing_data_flat)], existing_data_flat, label='Historical Data', color='blue')\n",
    "    plt.plot(days[len(existing_data_flat):], next_30_days, label='Next 30 Days Prediction', color='red', linestyle='dashed')\n",
    "\n",
    "    plt.xlabel('Days')\n",
    "    plt.ylabel('Value')\n",
    "    plt.title(title)\n",
    "    plt.legend()\n",
    "    plt.grid(True)\n",
    "    plt.show()\n",
    "\n",
    "# plot_predictions(forecast_input, next_30_days)\n"
   ]
  },
  {
   "cell_type": "code",
   "execution_count": 51,
   "metadata": {},
   "outputs": [],
   "source": [
    "# Add these prediction to 'val' DataFrame\n",
    "last_date = val.index[-1]\n",
    "new_dates = pd.date_range(start=last_date, periods=30)\n",
    "new_predictions = pd.DataFrame(next_30_days, index=new_dates, columns=['Predictions'])\n",
    "\n",
    "extended_val = pd.concat([val, new_predictions])"
   ]
  },
  {
   "cell_type": "code",
   "execution_count": 52,
   "metadata": {},
   "outputs": [
    {
     "data": {
      "application/vnd.plotly.v1+json": {
       "config": {
        "plotlyServerURL": "https://plot.ly"
       },
       "data": [
        {
         "mode": "lines",
         "name": "Actual High",
         "type": "scatter",
         "x": [
          "2022-03-21T00:00:00",
          "2022-03-22T00:00:00",
          "2022-03-23T00:00:00",
          "2022-03-24T00:00:00",
          "2022-03-25T00:00:00",
          "2022-03-28T00:00:00",
          "2022-03-29T00:00:00",
          "2022-03-30T00:00:00",
          "2022-03-31T00:00:00",
          "2022-04-01T00:00:00",
          "2022-04-04T00:00:00",
          "2022-04-05T00:00:00",
          "2022-04-06T00:00:00",
          "2022-04-07T00:00:00",
          "2022-04-08T00:00:00",
          "2022-04-11T00:00:00",
          "2022-04-12T00:00:00",
          "2022-04-13T00:00:00",
          "2022-04-14T00:00:00",
          "2022-04-18T00:00:00",
          "2022-04-19T00:00:00",
          "2022-04-20T00:00:00",
          "2022-04-21T00:00:00",
          "2022-04-22T00:00:00",
          "2022-04-25T00:00:00",
          "2022-04-26T00:00:00",
          "2022-04-27T00:00:00",
          "2022-04-28T00:00:00",
          "2022-04-29T00:00:00",
          "2022-05-02T00:00:00",
          "2022-05-03T00:00:00",
          "2022-05-04T00:00:00",
          "2022-05-05T00:00:00",
          "2022-05-06T00:00:00",
          "2022-05-09T00:00:00",
          "2022-05-10T00:00:00",
          "2022-05-11T00:00:00",
          "2022-05-12T00:00:00",
          "2022-05-13T00:00:00",
          "2022-05-16T00:00:00",
          "2022-05-17T00:00:00",
          "2022-05-18T00:00:00",
          "2022-05-19T00:00:00",
          "2022-05-20T00:00:00",
          "2022-05-23T00:00:00",
          "2022-05-24T00:00:00",
          "2022-05-25T00:00:00",
          "2022-05-26T00:00:00",
          "2022-05-27T00:00:00",
          "2022-05-31T00:00:00",
          "2022-06-01T00:00:00",
          "2022-06-02T00:00:00",
          "2022-06-03T00:00:00",
          "2022-06-06T00:00:00",
          "2022-06-07T00:00:00",
          "2022-06-08T00:00:00",
          "2022-06-09T00:00:00",
          "2022-06-10T00:00:00",
          "2022-06-13T00:00:00",
          "2022-06-14T00:00:00",
          "2022-06-15T00:00:00",
          "2022-06-16T00:00:00",
          "2022-06-17T00:00:00",
          "2022-06-21T00:00:00",
          "2022-06-22T00:00:00",
          "2022-06-23T00:00:00",
          "2022-06-24T00:00:00",
          "2022-06-27T00:00:00",
          "2022-06-28T00:00:00",
          "2022-06-29T00:00:00",
          "2022-06-30T00:00:00",
          "2022-07-01T00:00:00",
          "2022-07-05T00:00:00",
          "2022-07-06T00:00:00",
          "2022-07-07T00:00:00",
          "2022-07-08T00:00:00",
          "2022-07-11T00:00:00",
          "2022-07-12T00:00:00",
          "2022-07-13T00:00:00",
          "2022-07-14T00:00:00",
          "2022-07-15T00:00:00",
          "2022-07-18T00:00:00",
          "2022-07-19T00:00:00",
          "2022-07-20T00:00:00",
          "2022-07-21T00:00:00",
          "2022-07-22T00:00:00",
          "2022-07-25T00:00:00",
          "2022-07-26T00:00:00",
          "2022-07-27T00:00:00",
          "2022-07-28T00:00:00",
          "2022-07-29T00:00:00",
          "2022-08-01T00:00:00",
          "2022-08-02T00:00:00",
          "2022-08-03T00:00:00",
          "2022-08-04T00:00:00",
          "2022-08-05T00:00:00",
          "2022-08-08T00:00:00",
          "2022-08-09T00:00:00",
          "2022-08-10T00:00:00",
          "2022-08-11T00:00:00",
          "2022-08-12T00:00:00",
          "2022-08-15T00:00:00",
          "2022-08-16T00:00:00",
          "2022-08-17T00:00:00",
          "2022-08-18T00:00:00",
          "2022-08-19T00:00:00",
          "2022-08-22T00:00:00",
          "2022-08-23T00:00:00",
          "2022-08-24T00:00:00",
          "2022-08-25T00:00:00",
          "2022-08-26T00:00:00",
          "2022-08-29T00:00:00",
          "2022-08-30T00:00:00",
          "2022-08-31T00:00:00",
          "2022-09-01T00:00:00",
          "2022-09-02T00:00:00",
          "2022-09-06T00:00:00",
          "2022-09-07T00:00:00",
          "2022-09-08T00:00:00",
          "2022-09-09T00:00:00",
          "2022-09-12T00:00:00",
          "2022-09-13T00:00:00",
          "2022-09-14T00:00:00",
          "2022-09-15T00:00:00",
          "2022-09-16T00:00:00",
          "2022-09-19T00:00:00",
          "2022-09-20T00:00:00",
          "2022-09-21T00:00:00",
          "2022-09-22T00:00:00",
          "2022-09-23T00:00:00",
          "2022-09-26T00:00:00",
          "2022-09-27T00:00:00",
          "2022-09-28T00:00:00",
          "2022-09-29T00:00:00",
          "2022-09-30T00:00:00",
          "2022-10-03T00:00:00",
          "2022-10-04T00:00:00",
          "2022-10-05T00:00:00",
          "2022-10-06T00:00:00",
          "2022-10-07T00:00:00",
          "2022-10-10T00:00:00",
          "2022-10-11T00:00:00",
          "2022-10-12T00:00:00",
          "2022-10-13T00:00:00",
          "2022-10-14T00:00:00",
          "2022-10-17T00:00:00",
          "2022-10-18T00:00:00",
          "2022-10-19T00:00:00",
          "2022-10-20T00:00:00",
          "2022-10-21T00:00:00",
          "2022-10-24T00:00:00",
          "2022-10-25T00:00:00",
          "2022-10-26T00:00:00",
          "2022-10-27T00:00:00",
          "2022-10-28T00:00:00",
          "2022-10-31T00:00:00",
          "2022-11-01T00:00:00",
          "2022-11-02T00:00:00",
          "2022-11-03T00:00:00",
          "2022-11-04T00:00:00",
          "2022-11-07T00:00:00",
          "2022-11-08T00:00:00",
          "2022-11-09T00:00:00",
          "2022-11-10T00:00:00",
          "2022-11-11T00:00:00",
          "2022-11-14T00:00:00",
          "2022-11-15T00:00:00",
          "2022-11-16T00:00:00",
          "2022-11-17T00:00:00",
          "2022-11-18T00:00:00",
          "2022-11-21T00:00:00",
          "2022-11-22T00:00:00",
          "2022-11-23T00:00:00",
          "2022-11-25T00:00:00",
          "2022-11-28T00:00:00",
          "2022-11-29T00:00:00",
          "2022-11-30T00:00:00",
          "2022-12-01T00:00:00",
          "2022-12-02T00:00:00",
          "2022-12-05T00:00:00",
          "2022-12-06T00:00:00",
          "2022-12-07T00:00:00",
          "2022-12-08T00:00:00",
          "2022-12-09T00:00:00",
          "2022-12-12T00:00:00",
          "2022-12-13T00:00:00",
          "2022-12-14T00:00:00",
          "2022-12-15T00:00:00",
          "2022-12-16T00:00:00",
          "2022-12-19T00:00:00",
          "2022-12-20T00:00:00",
          "2022-12-21T00:00:00",
          "2022-12-22T00:00:00",
          "2022-12-23T00:00:00",
          "2022-12-27T00:00:00",
          "2022-12-28T00:00:00",
          "2022-12-29T00:00:00",
          "2022-12-30T00:00:00",
          "2023-01-03T00:00:00",
          "2023-01-04T00:00:00",
          "2023-01-05T00:00:00",
          "2023-01-06T00:00:00",
          "2023-01-09T00:00:00",
          "2023-01-10T00:00:00",
          "2023-01-11T00:00:00",
          "2023-01-12T00:00:00",
          "2023-01-13T00:00:00",
          "2023-01-17T00:00:00",
          "2023-01-18T00:00:00",
          "2023-01-19T00:00:00",
          "2023-01-20T00:00:00",
          "2023-01-23T00:00:00",
          "2023-01-24T00:00:00",
          "2023-01-25T00:00:00",
          "2023-01-26T00:00:00",
          "2023-01-27T00:00:00",
          "2023-01-30T00:00:00",
          "2023-01-31T00:00:00",
          "2023-02-01T00:00:00",
          "2023-02-02T00:00:00",
          "2023-02-03T00:00:00",
          "2023-02-06T00:00:00",
          "2023-02-07T00:00:00",
          "2023-02-08T00:00:00",
          "2023-02-09T00:00:00",
          "2023-02-10T00:00:00",
          "2023-02-13T00:00:00",
          "2023-02-14T00:00:00",
          "2023-02-15T00:00:00",
          "2023-02-16T00:00:00",
          "2023-02-17T00:00:00",
          "2023-02-21T00:00:00",
          "2023-02-22T00:00:00",
          "2023-02-23T00:00:00",
          "2023-02-24T00:00:00",
          "2023-02-27T00:00:00",
          "2023-02-28T00:00:00",
          "2023-03-01T00:00:00",
          "2023-03-02T00:00:00",
          "2023-03-03T00:00:00",
          "2023-03-06T00:00:00",
          "2023-03-07T00:00:00",
          "2023-03-08T00:00:00",
          "2023-03-09T00:00:00",
          "2023-03-10T00:00:00",
          "2023-03-13T00:00:00",
          "2023-03-14T00:00:00",
          "2023-03-15T00:00:00",
          "2023-03-16T00:00:00",
          "2023-03-17T00:00:00",
          "2023-03-20T00:00:00",
          "2023-03-21T00:00:00",
          "2023-03-22T00:00:00",
          "2023-03-23T00:00:00",
          "2023-03-24T00:00:00",
          "2023-03-27T00:00:00",
          "2023-03-28T00:00:00",
          "2023-03-29T00:00:00",
          "2023-03-30T00:00:00",
          "2023-03-31T00:00:00",
          "2023-04-03T00:00:00",
          "2023-04-04T00:00:00",
          "2023-04-05T00:00:00",
          "2023-04-06T00:00:00",
          "2023-04-10T00:00:00",
          "2023-04-11T00:00:00",
          "2023-04-12T00:00:00",
          "2023-04-13T00:00:00",
          "2023-04-14T00:00:00",
          "2023-04-17T00:00:00",
          "2023-04-18T00:00:00",
          "2023-04-19T00:00:00",
          "2023-04-20T00:00:00",
          "2023-04-21T00:00:00",
          "2023-04-24T00:00:00",
          "2023-04-25T00:00:00",
          "2023-04-26T00:00:00",
          "2023-04-27T00:00:00",
          "2023-04-28T00:00:00",
          "2023-05-01T00:00:00",
          "2023-05-02T00:00:00",
          "2023-05-03T00:00:00",
          "2023-05-04T00:00:00",
          "2023-05-05T00:00:00",
          "2023-05-08T00:00:00",
          "2023-05-09T00:00:00",
          "2023-05-10T00:00:00",
          "2023-05-11T00:00:00",
          "2023-05-12T00:00:00",
          "2023-05-15T00:00:00",
          "2023-05-16T00:00:00",
          "2023-05-17T00:00:00",
          "2023-05-18T00:00:00",
          "2023-05-19T00:00:00",
          "2023-05-22T00:00:00",
          "2023-05-23T00:00:00",
          "2023-05-24T00:00:00",
          "2023-05-25T00:00:00",
          "2023-05-26T00:00:00",
          "2023-05-30T00:00:00",
          "2023-05-31T00:00:00",
          "2023-06-01T00:00:00",
          "2023-06-02T00:00:00",
          "2023-06-05T00:00:00",
          "2023-06-06T00:00:00",
          "2023-06-07T00:00:00",
          "2023-06-08T00:00:00",
          "2023-06-09T00:00:00",
          "2023-06-12T00:00:00",
          "2023-06-13T00:00:00",
          "2023-06-14T00:00:00",
          "2023-06-15T00:00:00",
          "2023-06-16T00:00:00",
          "2023-06-20T00:00:00",
          "2023-06-21T00:00:00",
          "2023-06-22T00:00:00",
          "2023-06-23T00:00:00",
          "2023-06-26T00:00:00",
          "2023-06-27T00:00:00",
          "2023-06-28T00:00:00",
          "2023-06-29T00:00:00",
          "2023-06-30T00:00:00",
          "2023-07-03T00:00:00",
          "2023-07-05T00:00:00",
          "2023-07-06T00:00:00",
          "2023-07-07T00:00:00",
          "2023-07-10T00:00:00",
          "2023-07-11T00:00:00",
          "2023-07-12T00:00:00",
          "2023-07-13T00:00:00",
          "2023-07-14T00:00:00",
          "2023-07-17T00:00:00",
          "2023-07-18T00:00:00",
          "2023-07-19T00:00:00",
          "2023-07-20T00:00:00",
          "2023-07-21T00:00:00",
          "2023-07-24T00:00:00",
          "2023-07-25T00:00:00",
          "2023-07-26T00:00:00",
          "2023-07-27T00:00:00",
          "2023-07-28T00:00:00",
          "2023-07-31T00:00:00",
          "2023-08-01T00:00:00",
          "2023-08-02T00:00:00",
          "2023-08-03T00:00:00",
          "2023-08-04T00:00:00",
          "2023-08-07T00:00:00",
          "2023-08-08T00:00:00",
          "2023-08-09T00:00:00",
          "2023-08-10T00:00:00",
          "2023-08-11T00:00:00",
          "2023-08-14T00:00:00",
          "2023-08-15T00:00:00",
          "2023-08-16T00:00:00",
          "2023-08-17T00:00:00",
          "2023-08-18T00:00:00",
          "2023-08-21T00:00:00",
          "2023-08-22T00:00:00",
          "2023-08-23T00:00:00",
          "2023-08-24T00:00:00",
          "2023-08-25T00:00:00",
          "2023-08-28T00:00:00",
          "2023-08-29T00:00:00",
          "2023-08-30T00:00:00",
          "2023-08-31T00:00:00",
          "2023-09-01T00:00:00",
          "2023-09-05T00:00:00",
          "2023-09-06T00:00:00",
          "2023-09-07T00:00:00",
          "2023-09-08T00:00:00",
          "2023-09-11T00:00:00",
          "2023-09-12T00:00:00",
          "2023-09-13T00:00:00",
          "2023-09-14T00:00:00",
          "2023-09-15T00:00:00",
          "2023-09-18T00:00:00",
          "2023-09-19T00:00:00",
          "2023-09-20T00:00:00",
          "2023-09-21T00:00:00",
          "2023-09-22T00:00:00",
          "2023-09-25T00:00:00",
          "2023-09-26T00:00:00",
          "2023-09-27T00:00:00",
          "2023-09-28T00:00:00",
          "2023-09-29T00:00:00",
          "2023-10-02T00:00:00",
          "2023-10-03T00:00:00",
          "2023-10-04T00:00:00",
          "2023-10-05T00:00:00",
          "2023-10-06T00:00:00",
          "2023-10-09T00:00:00",
          "2023-10-10T00:00:00",
          "2023-10-11T00:00:00",
          "2023-10-12T00:00:00",
          "2023-10-13T00:00:00",
          "2023-10-16T00:00:00",
          "2023-10-17T00:00:00",
          "2023-10-18T00:00:00",
          "2023-10-19T00:00:00",
          "2023-10-20T00:00:00",
          "2023-10-23T00:00:00",
          "2023-10-24T00:00:00",
          "2023-10-25T00:00:00",
          "2023-10-26T00:00:00",
          "2023-10-27T00:00:00",
          "2023-10-30T00:00:00",
          "2023-10-31T00:00:00",
          "2023-11-01T00:00:00",
          "2023-11-02T00:00:00",
          "2023-11-03T00:00:00",
          "2023-11-06T00:00:00",
          "2023-11-07T00:00:00",
          "2023-11-08T00:00:00",
          "2023-11-09T00:00:00",
          "2023-11-10T00:00:00",
          "2023-11-13T00:00:00",
          "2023-11-14T00:00:00",
          "2023-11-15T00:00:00",
          "2023-11-16T00:00:00",
          "2023-11-17T00:00:00",
          "2023-11-20T00:00:00",
          "2023-11-21T00:00:00",
          "2023-11-22T00:00:00",
          "2023-11-24T00:00:00",
          "2023-11-27T00:00:00",
          "2023-11-28T00:00:00",
          "2023-11-29T00:00:00",
          "2023-11-30T00:00:00",
          "2023-12-01T00:00:00",
          "2023-12-04T00:00:00",
          "2023-12-05T00:00:00",
          "2023-12-06T00:00:00",
          "2023-12-07T00:00:00",
          "2023-12-08T00:00:00",
          "2023-12-11T00:00:00",
          "2023-12-12T00:00:00",
          "2023-12-13T00:00:00",
          "2023-12-14T00:00:00",
          "2023-12-15T00:00:00",
          "2023-12-18T00:00:00",
          "2023-12-19T00:00:00",
          "2023-12-20T00:00:00",
          "2023-12-21T00:00:00",
          "2023-12-22T00:00:00",
          "2023-12-26T00:00:00",
          "2023-12-27T00:00:00",
          "2023-12-28T00:00:00",
          "2023-12-29T00:00:00",
          "2024-01-02T00:00:00",
          "2024-01-03T00:00:00",
          "2024-01-04T00:00:00",
          "2024-01-05T00:00:00",
          "2024-01-08T00:00:00",
          "2024-01-09T00:00:00"
         ],
         "y": [
          314.2833251953125,
          332.6199951171875,
          346.8999938964844,
          341.4966735839844,
          340.6000061035156,
          365.9599914550781,
          371.5899963378906,
          371.3166809082031,
          367.71331787109375,
          364.9166564941406,
          383.3033447265625,
          384.2900085449219,
          359.6666564941406,
          358.86334228515625,
          349.4800109863281,
          336.1566772460937,
          340.39666748046875,
          342.0799865722656,
          337.57000732421875,
          338.3066711425781,
          344.9800109863281,
          344.6666564941406,
          364.0733337402344,
          344.95001220703125,
          336.2066650390625,
          333.3333435058594,
          306,
          300,
          311.4666748046875,
          302.1199951171875,
          308.02667236328125,
          318.5,
          315.20001220703125,
          296,
          281.8766784667969,
          275.1199951171875,
          269.92333984375,
          253.22000122070312,
          262.45001220703125,
          256.586669921875,
          254.82666015625,
          253.5,
          244.6666717529297,
          240.52667236328125,
          226.65333557128903,
          217.97332763671875,
          223.106674194336,
          239.55667114257807,
          253.26666259765625,
          259.6000061035156,
          257.32666015625,
          264.2099914550781,
          247.79666137695312,
          244.86666870117188,
          239.9966735839844,
          249.9633331298828,
          255.54666137695312,
          239.5,
          226.63333129882807,
          226.3300018310547,
          235.663330078125,
          225.1666717529297,
          220.97000122070312,
          243.57666015625,
          246.8333282470703,
          239.3166656494141,
          246.0666656494141,
          252.07000732421875,
          249.97000122070312,
          231.17333984375,
          229.4566650390625,
          230.22999572753903,
          233.14666748046875,
          234.56333923339844,
          245.3633270263672,
          254.97999572753903,
          253.06333923339844,
          239.77333068847656,
          242.0599975585937,
          238.65333557128903,
          243.6233367919922,
          250.51666259765625,
          247.13999938964844,
          250.663330078125,
          273.26666259765625,
          280.78668212890625,
          274.14666748046875,
          267.3099975585937,
          275.9266662597656,
          283.29998779296875,
          298.32000732421875,
          311.8766784667969,
          307.8333435058594,
          309.54998779296875,
          313.6066589355469,
          304.6066589355469,
          305.20001220703125,
          292.39666748046875,
          297.510009765625,
          298.2366638183594,
          300.1600036621094,
          313.1333312988281,
          314.6666564941406,
          309.6566772460937,
          306.5,
          300.3599853515625,
          292.3999938964844,
          298.82666015625,
          303.64666748046875,
          302.9599914550781,
          302,
          287.739990234375,
          288.4800109863281,
          281.25,
          277.5799865722656,
          282.3500061035156,
          275.989990234375,
          283.8399963378906,
          289.5,
          299.8500061035156,
          305.489990234375,
          297.3999938964844,
          306,
          309.1199951171875,
          303.7099914550781,
          309.8399963378906,
          313.3299865722656,
          313.79998779296875,
          301.2900085449219,
          284.5,
          284.0899963378906,
          288.6700134277344,
          289,
          283.6499938964844,
          275.57000732421875,
          255.16000366210932,
          257.5,
          246.6699981689453,
          244.5800018310547,
          234.57000732421875,
          226.9900054931641,
          225.75,
          219.3000030517578,
          222.9900054931641,
          226.259994506836,
          221.8600006103516,
          229.82000732421875,
          222.92999267578125,
          215.5500030517578,
          214.66000366210932,
          213.5,
          224.3500061035156,
          230.6000061035156,
          233.8099975585937,
          228.8600006103516,
          229.8500061035156,
          237.3999938964844,
          227.8699951171875,
          221.1999969482422,
          223.8000030517578,
          208.8999938964844,
          195.1999969482422,
          195.88999938964844,
          191,
          196.5200042724609,
          195.72999572753903,
          200.82000732421875,
          192.57000732421875,
          186.16000366210932,
          185.19000244140625,
          176.77000427246094,
          170.9199981689453,
          183.6199951171875,
          185.1999969482422,
          188.5,
          186.3800048828125,
          194.759994506836,
          198.9199981689453,
          196.25,
          191.2700042724609,
          183.6499938964844,
          179.3800048828125,
          175.1999969482422,
          182.5,
          177.3699951171875,
          175.0500030517578,
          161.6199951171875,
          160.92999267578125,
          160.99000549316406,
          155.25,
          148.47000122070312,
          141.25999450683594,
          136.6300048828125,
          128.6199951171875,
          119.66999816894533,
          116.2699966430664,
          123.56999969482422,
          124.4800033569336,
          118.8000030517578,
          114.58999633789062,
          111.75,
          114.38999938964844,
          123.5199966430664,
          122.76000213623048,
          125.9499969482422,
          124.12999725341795,
          122.62999725341795,
          131.6999969482422,
          136.67999267578125,
          129.99000549316406,
          133.50999450683594,
          145.3800048828125,
          146.5,
          146.41000366210938,
          161.4199981689453,
          180.67999267578125,
          179.77000427246094,
          174.3000030517578,
          183.8099975585937,
          196.75,
          199,
          198.1699981689453,
          197.5,
          203,
          214,
          206.1999969482422,
          196.3000030517578,
          209.82000732421875,
          214.66000366210932,
          217.6499938964844,
          208.44000244140625,
          209.7100067138672,
          201.9900054931641,
          205.13999938964844,
          197.6699981689453,
          209.4199981689453,
          211.22999572753903,
          207.1999969482422,
          193.75,
          200.47999572753903,
          198.6000061035156,
          194.1999969482422,
          186.5,
          185.17999267578125,
          178.2899932861328,
          177.35000610351562,
          183.8000030517578,
          182.33999633789065,
          185.8099975585937,
          186.22000122070312,
          186.44000244140625,
          198,
          200.66000366210932,
          199.3099975585937,
          192.3600006103516,
          197.38999938964844,
          192.3500061035156,
          195.2899932861328,
          197.3300018310547,
          207.7899932861328,
          202.69000244140625,
          198.7400054931641,
          190.67999267578125,
          186.38999938964844,
          185.1000061035156,
          189.19000244140625,
          191.5800018310547,
          186.5,
          186.27999877929688,
          189.69000244140625,
          187.69000244140625,
          183.5,
          169.6999969482422,
          166,
          165.64999389648438,
          163.47000122070312,
          160.6699981689453,
          160.47999572753906,
          165,
          163.27999877929688,
          165.49000549316406,
          165,
          162.9499969482422,
          170.7899932861328,
          173.8000030517578,
          169.82000732421875,
          174.42999267578125,
          173.57000732421875,
          177.3800048828125,
          169.75999450683594,
          169.52000427246094,
          174.5,
          177.05999755859375,
          181.9499969482422,
          189.32000732421875,
          192.9600067138672,
          184.22000122070312,
          186.77999877929688,
          198.6000061035156,
          204.47999572753903,
          203.9499969482422,
          209.8000030517578,
          217.25,
          221.2899932861328,
          221.91000366210932,
          230.8300018310547,
          235.22999572753903,
          252.4199981689453,
          250.97000122070312,
          259.67999267578125,
          261.57000732421875,
          258.95001220703125,
          263.6000061035156,
          274.75,
          276.989990234375,
          265,
          262.45001220703125,
          258.3699951171875,
          250.38999938964844,
          259.8800048828125,
          260.739990234375,
          264.45001220703125,
          284.25,
          283.8500061035156,
          279.9700012207031,
          280.7799987792969,
          277.5199890136719,
          270.8999938964844,
          276.5199890136719,
          279.45001220703125,
          285.29998779296875,
          292.2300109863281,
          295.260009765625,
          299.2900085449219,
          280.92999267578125,
          268,
          269.8500061035156,
          272.8999938964844,
          268.0400085449219,
          269.1300048828125,
          267.25,
          269.0799865722656,
          266.4700012207031,
          259.5199890136719,
          260.489990234375,
          264.7699890136719,
          253.6499938964844,
          250.9199981689453,
          251.1000061035156,
          251.8000030517578,
          243.7899932861328,
          240.66000366210932,
          240.5,
          233.97000122070312,
          226.7400054931641,
          217.5800018310547,
          232.1300048828125,
          240.82000732421875,
          238.97999572753903,
          238.9199981689453,
          239,
          244.3800048828125,
          257.4800109863281,
          260.510009765625,
          261.17999267578125,
          259.0799865722656,
          258,
          255.38999938964844,
          252.8099975585937,
          256.5199890136719,
          274.8500061035156,
          278.3900146484375,
          274.9800109863281,
          276.7099914550781,
          278.9800109863281,
          271.44000244140625,
          267.8500061035156,
          273.92999267578125,
          260.8599853515625,
          257.7900085449219,
          247.1000061035156,
          249.5500030517578,
          245.3300018310547,
          247.5500030517578,
          254.7700042724609,
          254.27999877929688,
          250.0200042724609,
          261.8599853515625,
          263.6000061035156,
          261.6499938964844,
          261.3599853515625,
          268.94000244140625,
          268.6000061035156,
          265.4100036621094,
          259.6000061035156,
          255.3999938964844,
          257.17999267578125,
          254.6300048828125,
          230.6100006103516,
          218.8600006103516,
          216.97999572753903,
          222.0500030517578,
          220.1000061035156,
          214.8000030517578,
          212.41000366210932,
          210.8800048828125,
          202.8000030517578,
          205.9900054931641,
          219.1999969482422,
          226.3699951171875,
          226.32000732421875,
          223.1199951171875,
          224.1499938964844,
          220.8000030517578,
          215.3800048828125,
          225.3999938964844,
          238.13999938964844,
          246.6999969482422,
          240.8800048828125,
          237.38999938964844,
          237.1000061035156,
          243.6199951171875,
          244.009994506836,
          238.75,
          238.3300018310547,
          247,
          252.75,
          245.22000122070312,
          240.19000244140625,
          239.3699951171875,
          246.66000366210932,
          246.57000732421875,
          244.0800018310547,
          245.2700042724609,
          243.44000244140625,
          238.9900054931641,
          240.3000030517578,
          253.8800048828125,
          254.1300048828125,
          258.739990234375,
          258.3399963378906,
          259.8399963378906,
          254.8000030517578,
          258.2200012207031,
          257.9700012207031,
          263.3399963378906,
          265.1300048828125,
          255.19000244140625,
          251.25,
          245.67999267578125,
          242.6999969482422,
          240.1199951171875,
          241.25,
          238.9600067138672
         ]
        },
        {
         "mode": "lines",
         "name": "Predictions",
         "type": "scatter",
         "x": [
          "2022-03-21T00:00:00",
          "2022-03-22T00:00:00",
          "2022-03-23T00:00:00",
          "2022-03-24T00:00:00",
          "2022-03-25T00:00:00",
          "2022-03-28T00:00:00",
          "2022-03-29T00:00:00",
          "2022-03-30T00:00:00",
          "2022-03-31T00:00:00",
          "2022-04-01T00:00:00",
          "2022-04-04T00:00:00",
          "2022-04-05T00:00:00",
          "2022-04-06T00:00:00",
          "2022-04-07T00:00:00",
          "2022-04-08T00:00:00",
          "2022-04-11T00:00:00",
          "2022-04-12T00:00:00",
          "2022-04-13T00:00:00",
          "2022-04-14T00:00:00",
          "2022-04-18T00:00:00",
          "2022-04-19T00:00:00",
          "2022-04-20T00:00:00",
          "2022-04-21T00:00:00",
          "2022-04-22T00:00:00",
          "2022-04-25T00:00:00",
          "2022-04-26T00:00:00",
          "2022-04-27T00:00:00",
          "2022-04-28T00:00:00",
          "2022-04-29T00:00:00",
          "2022-05-02T00:00:00",
          "2022-05-03T00:00:00",
          "2022-05-04T00:00:00",
          "2022-05-05T00:00:00",
          "2022-05-06T00:00:00",
          "2022-05-09T00:00:00",
          "2022-05-10T00:00:00",
          "2022-05-11T00:00:00",
          "2022-05-12T00:00:00",
          "2022-05-13T00:00:00",
          "2022-05-16T00:00:00",
          "2022-05-17T00:00:00",
          "2022-05-18T00:00:00",
          "2022-05-19T00:00:00",
          "2022-05-20T00:00:00",
          "2022-05-23T00:00:00",
          "2022-05-24T00:00:00",
          "2022-05-25T00:00:00",
          "2022-05-26T00:00:00",
          "2022-05-27T00:00:00",
          "2022-05-31T00:00:00",
          "2022-06-01T00:00:00",
          "2022-06-02T00:00:00",
          "2022-06-03T00:00:00",
          "2022-06-06T00:00:00",
          "2022-06-07T00:00:00",
          "2022-06-08T00:00:00",
          "2022-06-09T00:00:00",
          "2022-06-10T00:00:00",
          "2022-06-13T00:00:00",
          "2022-06-14T00:00:00",
          "2022-06-15T00:00:00",
          "2022-06-16T00:00:00",
          "2022-06-17T00:00:00",
          "2022-06-21T00:00:00",
          "2022-06-22T00:00:00",
          "2022-06-23T00:00:00",
          "2022-06-24T00:00:00",
          "2022-06-27T00:00:00",
          "2022-06-28T00:00:00",
          "2022-06-29T00:00:00",
          "2022-06-30T00:00:00",
          "2022-07-01T00:00:00",
          "2022-07-05T00:00:00",
          "2022-07-06T00:00:00",
          "2022-07-07T00:00:00",
          "2022-07-08T00:00:00",
          "2022-07-11T00:00:00",
          "2022-07-12T00:00:00",
          "2022-07-13T00:00:00",
          "2022-07-14T00:00:00",
          "2022-07-15T00:00:00",
          "2022-07-18T00:00:00",
          "2022-07-19T00:00:00",
          "2022-07-20T00:00:00",
          "2022-07-21T00:00:00",
          "2022-07-22T00:00:00",
          "2022-07-25T00:00:00",
          "2022-07-26T00:00:00",
          "2022-07-27T00:00:00",
          "2022-07-28T00:00:00",
          "2022-07-29T00:00:00",
          "2022-08-01T00:00:00",
          "2022-08-02T00:00:00",
          "2022-08-03T00:00:00",
          "2022-08-04T00:00:00",
          "2022-08-05T00:00:00",
          "2022-08-08T00:00:00",
          "2022-08-09T00:00:00",
          "2022-08-10T00:00:00",
          "2022-08-11T00:00:00",
          "2022-08-12T00:00:00",
          "2022-08-15T00:00:00",
          "2022-08-16T00:00:00",
          "2022-08-17T00:00:00",
          "2022-08-18T00:00:00",
          "2022-08-19T00:00:00",
          "2022-08-22T00:00:00",
          "2022-08-23T00:00:00",
          "2022-08-24T00:00:00",
          "2022-08-25T00:00:00",
          "2022-08-26T00:00:00",
          "2022-08-29T00:00:00",
          "2022-08-30T00:00:00",
          "2022-08-31T00:00:00",
          "2022-09-01T00:00:00",
          "2022-09-02T00:00:00",
          "2022-09-06T00:00:00",
          "2022-09-07T00:00:00",
          "2022-09-08T00:00:00",
          "2022-09-09T00:00:00",
          "2022-09-12T00:00:00",
          "2022-09-13T00:00:00",
          "2022-09-14T00:00:00",
          "2022-09-15T00:00:00",
          "2022-09-16T00:00:00",
          "2022-09-19T00:00:00",
          "2022-09-20T00:00:00",
          "2022-09-21T00:00:00",
          "2022-09-22T00:00:00",
          "2022-09-23T00:00:00",
          "2022-09-26T00:00:00",
          "2022-09-27T00:00:00",
          "2022-09-28T00:00:00",
          "2022-09-29T00:00:00",
          "2022-09-30T00:00:00",
          "2022-10-03T00:00:00",
          "2022-10-04T00:00:00",
          "2022-10-05T00:00:00",
          "2022-10-06T00:00:00",
          "2022-10-07T00:00:00",
          "2022-10-10T00:00:00",
          "2022-10-11T00:00:00",
          "2022-10-12T00:00:00",
          "2022-10-13T00:00:00",
          "2022-10-14T00:00:00",
          "2022-10-17T00:00:00",
          "2022-10-18T00:00:00",
          "2022-10-19T00:00:00",
          "2022-10-20T00:00:00",
          "2022-10-21T00:00:00",
          "2022-10-24T00:00:00",
          "2022-10-25T00:00:00",
          "2022-10-26T00:00:00",
          "2022-10-27T00:00:00",
          "2022-10-28T00:00:00",
          "2022-10-31T00:00:00",
          "2022-11-01T00:00:00",
          "2022-11-02T00:00:00",
          "2022-11-03T00:00:00",
          "2022-11-04T00:00:00",
          "2022-11-07T00:00:00",
          "2022-11-08T00:00:00",
          "2022-11-09T00:00:00",
          "2022-11-10T00:00:00",
          "2022-11-11T00:00:00",
          "2022-11-14T00:00:00",
          "2022-11-15T00:00:00",
          "2022-11-16T00:00:00",
          "2022-11-17T00:00:00",
          "2022-11-18T00:00:00",
          "2022-11-21T00:00:00",
          "2022-11-22T00:00:00",
          "2022-11-23T00:00:00",
          "2022-11-25T00:00:00",
          "2022-11-28T00:00:00",
          "2022-11-29T00:00:00",
          "2022-11-30T00:00:00",
          "2022-12-01T00:00:00",
          "2022-12-02T00:00:00",
          "2022-12-05T00:00:00",
          "2022-12-06T00:00:00",
          "2022-12-07T00:00:00",
          "2022-12-08T00:00:00",
          "2022-12-09T00:00:00",
          "2022-12-12T00:00:00",
          "2022-12-13T00:00:00",
          "2022-12-14T00:00:00",
          "2022-12-15T00:00:00",
          "2022-12-16T00:00:00",
          "2022-12-19T00:00:00",
          "2022-12-20T00:00:00",
          "2022-12-21T00:00:00",
          "2022-12-22T00:00:00",
          "2022-12-23T00:00:00",
          "2022-12-27T00:00:00",
          "2022-12-28T00:00:00",
          "2022-12-29T00:00:00",
          "2022-12-30T00:00:00",
          "2023-01-03T00:00:00",
          "2023-01-04T00:00:00",
          "2023-01-05T00:00:00",
          "2023-01-06T00:00:00",
          "2023-01-09T00:00:00",
          "2023-01-10T00:00:00",
          "2023-01-11T00:00:00",
          "2023-01-12T00:00:00",
          "2023-01-13T00:00:00",
          "2023-01-17T00:00:00",
          "2023-01-18T00:00:00",
          "2023-01-19T00:00:00",
          "2023-01-20T00:00:00",
          "2023-01-23T00:00:00",
          "2023-01-24T00:00:00",
          "2023-01-25T00:00:00",
          "2023-01-26T00:00:00",
          "2023-01-27T00:00:00",
          "2023-01-30T00:00:00",
          "2023-01-31T00:00:00",
          "2023-02-01T00:00:00",
          "2023-02-02T00:00:00",
          "2023-02-03T00:00:00",
          "2023-02-06T00:00:00",
          "2023-02-07T00:00:00",
          "2023-02-08T00:00:00",
          "2023-02-09T00:00:00",
          "2023-02-10T00:00:00",
          "2023-02-13T00:00:00",
          "2023-02-14T00:00:00",
          "2023-02-15T00:00:00",
          "2023-02-16T00:00:00",
          "2023-02-17T00:00:00",
          "2023-02-21T00:00:00",
          "2023-02-22T00:00:00",
          "2023-02-23T00:00:00",
          "2023-02-24T00:00:00",
          "2023-02-27T00:00:00",
          "2023-02-28T00:00:00",
          "2023-03-01T00:00:00",
          "2023-03-02T00:00:00",
          "2023-03-03T00:00:00",
          "2023-03-06T00:00:00",
          "2023-03-07T00:00:00",
          "2023-03-08T00:00:00",
          "2023-03-09T00:00:00",
          "2023-03-10T00:00:00",
          "2023-03-13T00:00:00",
          "2023-03-14T00:00:00",
          "2023-03-15T00:00:00",
          "2023-03-16T00:00:00",
          "2023-03-17T00:00:00",
          "2023-03-20T00:00:00",
          "2023-03-21T00:00:00",
          "2023-03-22T00:00:00",
          "2023-03-23T00:00:00",
          "2023-03-24T00:00:00",
          "2023-03-27T00:00:00",
          "2023-03-28T00:00:00",
          "2023-03-29T00:00:00",
          "2023-03-30T00:00:00",
          "2023-03-31T00:00:00",
          "2023-04-03T00:00:00",
          "2023-04-04T00:00:00",
          "2023-04-05T00:00:00",
          "2023-04-06T00:00:00",
          "2023-04-10T00:00:00",
          "2023-04-11T00:00:00",
          "2023-04-12T00:00:00",
          "2023-04-13T00:00:00",
          "2023-04-14T00:00:00",
          "2023-04-17T00:00:00",
          "2023-04-18T00:00:00",
          "2023-04-19T00:00:00",
          "2023-04-20T00:00:00",
          "2023-04-21T00:00:00",
          "2023-04-24T00:00:00",
          "2023-04-25T00:00:00",
          "2023-04-26T00:00:00",
          "2023-04-27T00:00:00",
          "2023-04-28T00:00:00",
          "2023-05-01T00:00:00",
          "2023-05-02T00:00:00",
          "2023-05-03T00:00:00",
          "2023-05-04T00:00:00",
          "2023-05-05T00:00:00",
          "2023-05-08T00:00:00",
          "2023-05-09T00:00:00",
          "2023-05-10T00:00:00",
          "2023-05-11T00:00:00",
          "2023-05-12T00:00:00",
          "2023-05-15T00:00:00",
          "2023-05-16T00:00:00",
          "2023-05-17T00:00:00",
          "2023-05-18T00:00:00",
          "2023-05-19T00:00:00",
          "2023-05-22T00:00:00",
          "2023-05-23T00:00:00",
          "2023-05-24T00:00:00",
          "2023-05-25T00:00:00",
          "2023-05-26T00:00:00",
          "2023-05-30T00:00:00",
          "2023-05-31T00:00:00",
          "2023-06-01T00:00:00",
          "2023-06-02T00:00:00",
          "2023-06-05T00:00:00",
          "2023-06-06T00:00:00",
          "2023-06-07T00:00:00",
          "2023-06-08T00:00:00",
          "2023-06-09T00:00:00",
          "2023-06-12T00:00:00",
          "2023-06-13T00:00:00",
          "2023-06-14T00:00:00",
          "2023-06-15T00:00:00",
          "2023-06-16T00:00:00",
          "2023-06-20T00:00:00",
          "2023-06-21T00:00:00",
          "2023-06-22T00:00:00",
          "2023-06-23T00:00:00",
          "2023-06-26T00:00:00",
          "2023-06-27T00:00:00",
          "2023-06-28T00:00:00",
          "2023-06-29T00:00:00",
          "2023-06-30T00:00:00",
          "2023-07-03T00:00:00",
          "2023-07-05T00:00:00",
          "2023-07-06T00:00:00",
          "2023-07-07T00:00:00",
          "2023-07-10T00:00:00",
          "2023-07-11T00:00:00",
          "2023-07-12T00:00:00",
          "2023-07-13T00:00:00",
          "2023-07-14T00:00:00",
          "2023-07-17T00:00:00",
          "2023-07-18T00:00:00",
          "2023-07-19T00:00:00",
          "2023-07-20T00:00:00",
          "2023-07-21T00:00:00",
          "2023-07-24T00:00:00",
          "2023-07-25T00:00:00",
          "2023-07-26T00:00:00",
          "2023-07-27T00:00:00",
          "2023-07-28T00:00:00",
          "2023-07-31T00:00:00",
          "2023-08-01T00:00:00",
          "2023-08-02T00:00:00",
          "2023-08-03T00:00:00",
          "2023-08-04T00:00:00",
          "2023-08-07T00:00:00",
          "2023-08-08T00:00:00",
          "2023-08-09T00:00:00",
          "2023-08-10T00:00:00",
          "2023-08-11T00:00:00",
          "2023-08-14T00:00:00",
          "2023-08-15T00:00:00",
          "2023-08-16T00:00:00",
          "2023-08-17T00:00:00",
          "2023-08-18T00:00:00",
          "2023-08-21T00:00:00",
          "2023-08-22T00:00:00",
          "2023-08-23T00:00:00",
          "2023-08-24T00:00:00",
          "2023-08-25T00:00:00",
          "2023-08-28T00:00:00",
          "2023-08-29T00:00:00",
          "2023-08-30T00:00:00",
          "2023-08-31T00:00:00",
          "2023-09-01T00:00:00",
          "2023-09-05T00:00:00",
          "2023-09-06T00:00:00",
          "2023-09-07T00:00:00",
          "2023-09-08T00:00:00",
          "2023-09-11T00:00:00",
          "2023-09-12T00:00:00",
          "2023-09-13T00:00:00",
          "2023-09-14T00:00:00",
          "2023-09-15T00:00:00",
          "2023-09-18T00:00:00",
          "2023-09-19T00:00:00",
          "2023-09-20T00:00:00",
          "2023-09-21T00:00:00",
          "2023-09-22T00:00:00",
          "2023-09-25T00:00:00",
          "2023-09-26T00:00:00",
          "2023-09-27T00:00:00",
          "2023-09-28T00:00:00",
          "2023-09-29T00:00:00",
          "2023-10-02T00:00:00",
          "2023-10-03T00:00:00",
          "2023-10-04T00:00:00",
          "2023-10-05T00:00:00",
          "2023-10-06T00:00:00",
          "2023-10-09T00:00:00",
          "2023-10-10T00:00:00",
          "2023-10-11T00:00:00",
          "2023-10-12T00:00:00",
          "2023-10-13T00:00:00",
          "2023-10-16T00:00:00",
          "2023-10-17T00:00:00",
          "2023-10-18T00:00:00",
          "2023-10-19T00:00:00",
          "2023-10-20T00:00:00",
          "2023-10-23T00:00:00",
          "2023-10-24T00:00:00",
          "2023-10-25T00:00:00",
          "2023-10-26T00:00:00",
          "2023-10-27T00:00:00",
          "2023-10-30T00:00:00",
          "2023-10-31T00:00:00",
          "2023-11-01T00:00:00",
          "2023-11-02T00:00:00",
          "2023-11-03T00:00:00",
          "2023-11-06T00:00:00",
          "2023-11-07T00:00:00",
          "2023-11-08T00:00:00",
          "2023-11-09T00:00:00",
          "2023-11-10T00:00:00",
          "2023-11-13T00:00:00",
          "2023-11-14T00:00:00",
          "2023-11-15T00:00:00",
          "2023-11-16T00:00:00",
          "2023-11-17T00:00:00",
          "2023-11-20T00:00:00",
          "2023-11-21T00:00:00",
          "2023-11-22T00:00:00",
          "2023-11-24T00:00:00",
          "2023-11-27T00:00:00",
          "2023-11-28T00:00:00",
          "2023-11-29T00:00:00",
          "2023-11-30T00:00:00",
          "2023-12-01T00:00:00",
          "2023-12-04T00:00:00",
          "2023-12-05T00:00:00",
          "2023-12-06T00:00:00",
          "2023-12-07T00:00:00",
          "2023-12-08T00:00:00",
          "2023-12-11T00:00:00",
          "2023-12-12T00:00:00",
          "2023-12-13T00:00:00",
          "2023-12-14T00:00:00",
          "2023-12-15T00:00:00",
          "2023-12-18T00:00:00",
          "2023-12-19T00:00:00",
          "2023-12-20T00:00:00",
          "2023-12-21T00:00:00",
          "2023-12-22T00:00:00",
          "2023-12-26T00:00:00",
          "2023-12-27T00:00:00",
          "2023-12-28T00:00:00",
          "2023-12-29T00:00:00",
          "2024-01-02T00:00:00",
          "2024-01-03T00:00:00",
          "2024-01-04T00:00:00",
          "2024-01-05T00:00:00",
          "2024-01-08T00:00:00",
          "2024-01-09T00:00:00",
          "2024-01-09T00:00:00",
          "2024-01-10T00:00:00",
          "2024-01-11T00:00:00",
          "2024-01-12T00:00:00",
          "2024-01-13T00:00:00",
          "2024-01-14T00:00:00",
          "2024-01-15T00:00:00",
          "2024-01-16T00:00:00",
          "2024-01-17T00:00:00",
          "2024-01-18T00:00:00",
          "2024-01-19T00:00:00",
          "2024-01-20T00:00:00",
          "2024-01-21T00:00:00",
          "2024-01-22T00:00:00",
          "2024-01-23T00:00:00",
          "2024-01-24T00:00:00",
          "2024-01-25T00:00:00",
          "2024-01-26T00:00:00",
          "2024-01-27T00:00:00",
          "2024-01-28T00:00:00",
          "2024-01-29T00:00:00",
          "2024-01-30T00:00:00",
          "2024-01-31T00:00:00",
          "2024-02-01T00:00:00",
          "2024-02-02T00:00:00",
          "2024-02-03T00:00:00",
          "2024-02-04T00:00:00",
          "2024-02-05T00:00:00",
          "2024-02-06T00:00:00",
          "2024-02-07T00:00:00"
         ],
         "y": [
          302.2911682128906,
          313.9520568847656,
          325.510498046875,
          328.56610107421875,
          328.26763916015625,
          328.063720703125,
          329.6251220703125,
          329.858642578125,
          329.86981201171875,
          329.79791259765625,
          329.72119140625,
          330.0283203125,
          330.07232666015625,
          329.6399230957031,
          329.5057373046875,
          329.06744384765625,
          327.6130676269531,
          327.9250183105469,
          328.2176513671875,
          327.6597900390625,
          327.6619873046875,
          328.4820556640625,
          328.5552978515625,
          329.59271240234375,
          328.8104248046875,
          327.51422119140625,
          326.7079162597656,
          311.4252014160156,
          302.44244384765625,
          311.22216796875,
          305.09185791015625,
          308.6781005859375,
          317.926025390625,
          316.9319763183594,
          300.3744812011719,
          284.87677001953125,
          275.343994140625,
          268.37652587890625,
          251.7294464111328,
          256.4827880859375,
          253.2511444091797,
          250.81520080566406,
          249.4810028076172,
          242.7066192626953,
          238.3170623779297,
          227.1450958251953,
          217.792236328125,
          220.2954559326172,
          233.84649658203125,
          246.62010192871094,
          254.07000732421875,
          253.36012268066406,
          258.9015197753906,
          246.6343994140625,
          241.9545135498047,
          237.9640655517578,
          244.31118774414062,
          250.2109832763672,
          239.24913024902344,
          226.9588165283203,
          224.47071838378906,
          231.58836364746094,
          225.1446075439453,
          219.9317169189453,
          236.3154754638672,
          242.67852783203125,
          237.7817840576172,
          241.4102325439453,
          246.90065002441406,
          246.36129760742188,
          232.18002319335938,
          227.74142456054688,
          228.0338897705078,
          230.406494140625,
          231.9918670654297,
          240.08555603027344,
          248.94662475585938,
          249.17137145996094,
          239.07789611816406,
          238.62098693847656,
          236.5291290283203,
          239.55335998535156,
          245.3414764404297,
          244.03590393066406,
          246.0503387451172,
          266.05230712890625,
          279.328857421875,
          274.0835876464844,
          265.4471130371094,
          272.93853759765625,
          282.387939453125,
          297.1813049316406,
          311.2784423828125,
          310.0594482421875,
          310.8895263671875,
          314.47833251953125,
          307.55389404296875,
          306.67120361328125,
          295.8316955566406,
          298.1216735839844,
          299.5921630859375,
          301.338134765625,
          312.623779296875,
          315.8176574707031,
          312.01153564453125,
          308.58184814453125,
          302.8271484375,
          295.08514404296875,
          299.230712890625,
          304.3946228027344,
          304.5998229980469,
          303.6698913574219,
          291.27154541015625,
          289.5205078125,
          282.90838623046875,
          277.7821044921875,
          281.8115234375,
          276.35772705078125,
          282.9230041503906,
          289.7117919921875,
          299.5845947265625,
          306.1368408203125,
          300.1485595703125,
          306.1553039550781,
          310.2370300292969,
          306.1034240722656,
          310.47479248046875,
          314.30145263671875,
          315.1754150390625,
          304.72198486328125,
          288.22576904296875,
          284.8785705566406,
          289.0174865722656,
          290.1518859863281,
          285.3108215332031,
          276.1861267089844,
          254.24014282226562,
          252.69967651367188,
          244.7852325439453,
          241.5666046142578,
          233.9128875732422,
          226.40402221679688,
          224.0769805908203,
          218.69728088378906,
          220.45582580566406,
          223.7406463623047,
          220.84228515625,
          226.30921936035156,
          222.3365936279297,
          215.2064208984375,
          213.19757080078125,
          212.1420135498047,
          220.40394592285156,
          227.3819580078125,
          230.9744110107422,
          227.74049377441406,
          227.6320037841797,
          233.51527404785156,
          227.581787109375,
          220.6009063720703,
          221.45742797851562,
          210.1540985107422,
          196.97850036621094,
          194.87693786621094,
          190.74830627441406,
          194.5073699951172,
          195.01678466796875,
          199.0603485107422,
          193.16282653808594,
          185.5697021484375,
          183.15089416503906,
          174.4995880126953,
          166.59776306152344,
          177.5676727294922,
          182.5349578857422,
          186.0373077392578,
          184.84228515625,
          191.9407196044922,
          197.31971740722656,
          195.94879150390625,
          191.0665740966797,
          182.8713836669922,
          176.78285217285156,
          171.4418182373047,
          177.6769256591797,
          174.44290161132812,
          170.77574157714844,
          158.28468322753906,
          155.22998046875,
          155.1390380859375,
          151.46482849121094,
          146.58213806152344,
          141.3460235595703,
          137.16409301757812,
          130.93026733398438,
          122.56133270263672,
          117.46298217773438,
          121.87407684326172,
          124.67405700683594,
          120.76915740966797,
          115.91778564453125,
          112.44631958007812,
          113.62691497802734,
          121.2658920288086,
          123.41730499267578,
          125.4936294555664,
          125.08777618408203,
          123.49571228027344,
          129.44985961914062,
          135.08985900878906,
          131.86773681640625,
          132.61404418945312,
          140.84059143066406,
          143.83535766601562,
          143.98207092285156,
          152.59910583496094,
          171.84706115722656,
          176.41688537597656,
          170.6349639892578,
          178.71640014648438,
          193.0433349609375,
          197.7948455810547,
          197.56614685058594,
          196.84490966796875,
          201.1326446533203,
          210.3586883544922,
          206.5254669189453,
          197.4027862548828,
          206.00933837890625,
          212.14804077148438,
          215.3629913330078,
          208.8074188232422,
          208.18118286132812,
          202.60496520996094,
          203.62477111816406,
          198.33958435058594,
          205.9832000732422,
          209.48153686523438,
          206.80409240722656,
          195.42840576171875,
          198.37896728515625,
          198.21116638183594,
          194.13255310058594,
          186.2526092529297,
          183.2235870361328,
          176.05491638183594,
          173.33546447753906,
          179.54571533203125,
          179.79052734375,
          182.79698181152344,
          184.0481719970703,
          184.35581970214844,
          194.7255096435547,
          199.38839721679688,
          198.82408142089844,
          192.67169189453125,
          195.53936767578125,
          192.26600646972656,
          193.75225830078125,
          196.1116485595703,
          204.71974182128906,
          202.80845642089844,
          198.7518768310547,
          191.06040954589844,
          185.35780334472656,
          183.1202850341797,
          186.65016174316406,
          189.78607177734375,
          185.6667022705078,
          184.27186584472656,
          187.39317321777344,
          186.34825134277344,
          181.88531494140625,
          166.99400329589844,
          160.65386962890625,
          159.57412719726562,
          157.83412170410156,
          155.40354919433594,
          154.7451934814453,
          157.89549255371094,
          157.56138610839844,
          158.8636932373047,
          158.9595489501953,
          157.3188934326172,
          163.0940399169922,
          167.83627319335938,
          164.87185668945312,
          168.18312072753906,
          168.5583953857422,
          172.09869384765625,
          165.65521240234375,
          163.64566040039062,
          168.1702117919922,
          172.03099060058594,
          177.64117431640625,
          185.9900665283203,
          191.04383850097656,
          183.80731201171875,
          184.1886444091797,
          195.30641174316406,
          202.48439025878906,
          203.1800079345703,
          207.4402313232422,
          214.1326446533203,
          218.71922302246094,
          219.97152709960938,
          227.09812927246094,
          232.0816650390625,
          245.21473693847656,
          247.1616973876953,
          253.69300842285156,
          257.00360107421875,
          255.08204650878906,
          258.6815185546875,
          270.81329345703125,
          275.7664794921875,
          263.66900634765625,
          258.84222412109375,
          254.74754333496094,
          247.6916961669922,
          253.7447967529297,
          256.31231689453125,
          259.83624267578125,
          280.73443603515625,
          284.602783203125,
          280.7431945800781,
          280.7606201171875,
          277.6217346191406,
          269.926025390625,
          274.40167236328125,
          278.69140625,
          285.02447509765625,
          292.3763427734375,
          296.19158935546875,
          300.10736083984375,
          284.5305480957031,
          267.561279296875,
          266.736328125,
          270.34466552734375,
          265.93670654296875,
          266.0042724609375,
          264.32843017578125,
          265.77789306640625,
          263.5350646972656,
          256.4754943847656,
          256.0252990722656,
          260.0831298828125,
          251.25144958496094,
          247.32717895507812,
          247.0090789794922,
          247.56117248535156,
          241.80715942382812,
          238.27207946777344,
          237.64266967773438,
          232.79747009277344,
          226.10252380371094,
          217.4917755126953,
          227.25413513183594,
          236.41188049316406,
          236.56385803222656,
          236.21371459960938,
          236.2620391845703,
          240.15306091308594,
          250.67410278320312,
          255.6504669189453,
          256.82049560546875,
          255.12147521972656,
          253.8250274658203,
          251.50613403320312,
          249.0460662841797,
          251.4863739013672,
          269.15850830078125,
          277.2406005859375,
          274.4539794921875,
          275.5252380371094,
          278.2536315917969,
          270.81298828125,
          265.4308776855469,
          270.9662170410156,
          259.0574951171875,
          253.9713592529297,
          245.14663696289062,
          245.22996520996094,
          242.5692138671875,
          243.48606872558594,
          249.18223571777344,
          250.07456970214844,
          246.75807189941406,
          255.3238067626953,
          259.27691650390625,
          257.8390808105469,
          257.2010803222656,
          264.31182861328125,
          265.6592102050781,
          262.3854675292969,
          256.35186767578125,
          251.79039001464844,
          252.48388671875,
          250.76234436035156,
          232.4495391845703,
          219.1944580078125,
          215.61073303222656,
          219.2690887451172,
          218.6691436767578,
          214.11805725097656,
          211.33021545410156,
          209.7468719482422,
          203.4303741455078,
          204.4122314453125,
          214.89093017578125,
          223.10675048828125,
          224.4146270751953,
          221.86158752441406,
          222.09457397460938,
          219.61143493652344,
          214.69749450683594,
          221.60032653808594,
          233.24484252929688,
          241.65887451171875,
          238.89866638183594,
          235.4077911376953,
          234.6103057861328,
          239.28565979003906,
          240.6601104736328,
          236.91676330566406,
          235.74375915527344,
          241.9052276611328,
          247.5668487548828,
          242.99278259277344,
          238.16139221191406,
          236.74380493164062,
          241.84231567382812,
          242.99880981445312,
          241.1902618408203,
          241.64028930664062,
          240.51937866210938,
          237.0000762939453,
          237.21897888183594,
          247.2046661376953,
          249.8050079345703,
          253.5227813720703,
          254.0467529296875,
          255.24026489257812,
          251.35105895996094,
          253.2207794189453,
          253.64356994628906,
          258.244140625,
          261.0211181640625,
          252.5583953857422,
          247.82766723632812,
          243.0919647216797,
          240.05226135253906,
          237.70281982421875,
          238.09519958496094,
          238.09518432617188,
          235.9872283935547,
          233.90550231933594,
          231.98902893066406,
          230.174560546875,
          228.44276428222656,
          226.77267456054688,
          225.14915466308594,
          223.56080627441406,
          222.00013732910156,
          220.46324157714844,
          218.94972229003906,
          217.46261596679688,
          216.0078125,
          214.5934295654297,
          213.22840881347656,
          211.92132568359375,
          210.67889404296875,
          209.51162719726562,
          208.42681884765625,
          207.4189910888672,
          206.48228454589844,
          205.60910034179688,
          204.79136657714844,
          204.02105712890625,
          203.2904815673828,
          202.59249877929688,
          201.92047119140625,
          201.26829528808594,
          200.63027954101562
         ]
        }
       ],
       "layout": {
        "template": {
         "data": {
          "bar": [
           {
            "error_x": {
             "color": "#2a3f5f"
            },
            "error_y": {
             "color": "#2a3f5f"
            },
            "marker": {
             "line": {
              "color": "#E5ECF6",
              "width": 0.5
             },
             "pattern": {
              "fillmode": "overlay",
              "size": 10,
              "solidity": 0.2
             }
            },
            "type": "bar"
           }
          ],
          "barpolar": [
           {
            "marker": {
             "line": {
              "color": "#E5ECF6",
              "width": 0.5
             },
             "pattern": {
              "fillmode": "overlay",
              "size": 10,
              "solidity": 0.2
             }
            },
            "type": "barpolar"
           }
          ],
          "carpet": [
           {
            "aaxis": {
             "endlinecolor": "#2a3f5f",
             "gridcolor": "white",
             "linecolor": "white",
             "minorgridcolor": "white",
             "startlinecolor": "#2a3f5f"
            },
            "baxis": {
             "endlinecolor": "#2a3f5f",
             "gridcolor": "white",
             "linecolor": "white",
             "minorgridcolor": "white",
             "startlinecolor": "#2a3f5f"
            },
            "type": "carpet"
           }
          ],
          "choropleth": [
           {
            "colorbar": {
             "outlinewidth": 0,
             "ticks": ""
            },
            "type": "choropleth"
           }
          ],
          "contour": [
           {
            "colorbar": {
             "outlinewidth": 0,
             "ticks": ""
            },
            "colorscale": [
             [
              0,
              "#0d0887"
             ],
             [
              0.1111111111111111,
              "#46039f"
             ],
             [
              0.2222222222222222,
              "#7201a8"
             ],
             [
              0.3333333333333333,
              "#9c179e"
             ],
             [
              0.4444444444444444,
              "#bd3786"
             ],
             [
              0.5555555555555556,
              "#d8576b"
             ],
             [
              0.6666666666666666,
              "#ed7953"
             ],
             [
              0.7777777777777778,
              "#fb9f3a"
             ],
             [
              0.8888888888888888,
              "#fdca26"
             ],
             [
              1,
              "#f0f921"
             ]
            ],
            "type": "contour"
           }
          ],
          "contourcarpet": [
           {
            "colorbar": {
             "outlinewidth": 0,
             "ticks": ""
            },
            "type": "contourcarpet"
           }
          ],
          "heatmap": [
           {
            "colorbar": {
             "outlinewidth": 0,
             "ticks": ""
            },
            "colorscale": [
             [
              0,
              "#0d0887"
             ],
             [
              0.1111111111111111,
              "#46039f"
             ],
             [
              0.2222222222222222,
              "#7201a8"
             ],
             [
              0.3333333333333333,
              "#9c179e"
             ],
             [
              0.4444444444444444,
              "#bd3786"
             ],
             [
              0.5555555555555556,
              "#d8576b"
             ],
             [
              0.6666666666666666,
              "#ed7953"
             ],
             [
              0.7777777777777778,
              "#fb9f3a"
             ],
             [
              0.8888888888888888,
              "#fdca26"
             ],
             [
              1,
              "#f0f921"
             ]
            ],
            "type": "heatmap"
           }
          ],
          "heatmapgl": [
           {
            "colorbar": {
             "outlinewidth": 0,
             "ticks": ""
            },
            "colorscale": [
             [
              0,
              "#0d0887"
             ],
             [
              0.1111111111111111,
              "#46039f"
             ],
             [
              0.2222222222222222,
              "#7201a8"
             ],
             [
              0.3333333333333333,
              "#9c179e"
             ],
             [
              0.4444444444444444,
              "#bd3786"
             ],
             [
              0.5555555555555556,
              "#d8576b"
             ],
             [
              0.6666666666666666,
              "#ed7953"
             ],
             [
              0.7777777777777778,
              "#fb9f3a"
             ],
             [
              0.8888888888888888,
              "#fdca26"
             ],
             [
              1,
              "#f0f921"
             ]
            ],
            "type": "heatmapgl"
           }
          ],
          "histogram": [
           {
            "marker": {
             "pattern": {
              "fillmode": "overlay",
              "size": 10,
              "solidity": 0.2
             }
            },
            "type": "histogram"
           }
          ],
          "histogram2d": [
           {
            "colorbar": {
             "outlinewidth": 0,
             "ticks": ""
            },
            "colorscale": [
             [
              0,
              "#0d0887"
             ],
             [
              0.1111111111111111,
              "#46039f"
             ],
             [
              0.2222222222222222,
              "#7201a8"
             ],
             [
              0.3333333333333333,
              "#9c179e"
             ],
             [
              0.4444444444444444,
              "#bd3786"
             ],
             [
              0.5555555555555556,
              "#d8576b"
             ],
             [
              0.6666666666666666,
              "#ed7953"
             ],
             [
              0.7777777777777778,
              "#fb9f3a"
             ],
             [
              0.8888888888888888,
              "#fdca26"
             ],
             [
              1,
              "#f0f921"
             ]
            ],
            "type": "histogram2d"
           }
          ],
          "histogram2dcontour": [
           {
            "colorbar": {
             "outlinewidth": 0,
             "ticks": ""
            },
            "colorscale": [
             [
              0,
              "#0d0887"
             ],
             [
              0.1111111111111111,
              "#46039f"
             ],
             [
              0.2222222222222222,
              "#7201a8"
             ],
             [
              0.3333333333333333,
              "#9c179e"
             ],
             [
              0.4444444444444444,
              "#bd3786"
             ],
             [
              0.5555555555555556,
              "#d8576b"
             ],
             [
              0.6666666666666666,
              "#ed7953"
             ],
             [
              0.7777777777777778,
              "#fb9f3a"
             ],
             [
              0.8888888888888888,
              "#fdca26"
             ],
             [
              1,
              "#f0f921"
             ]
            ],
            "type": "histogram2dcontour"
           }
          ],
          "mesh3d": [
           {
            "colorbar": {
             "outlinewidth": 0,
             "ticks": ""
            },
            "type": "mesh3d"
           }
          ],
          "parcoords": [
           {
            "line": {
             "colorbar": {
              "outlinewidth": 0,
              "ticks": ""
             }
            },
            "type": "parcoords"
           }
          ],
          "pie": [
           {
            "automargin": true,
            "type": "pie"
           }
          ],
          "scatter": [
           {
            "fillpattern": {
             "fillmode": "overlay",
             "size": 10,
             "solidity": 0.2
            },
            "type": "scatter"
           }
          ],
          "scatter3d": [
           {
            "line": {
             "colorbar": {
              "outlinewidth": 0,
              "ticks": ""
             }
            },
            "marker": {
             "colorbar": {
              "outlinewidth": 0,
              "ticks": ""
             }
            },
            "type": "scatter3d"
           }
          ],
          "scattercarpet": [
           {
            "marker": {
             "colorbar": {
              "outlinewidth": 0,
              "ticks": ""
             }
            },
            "type": "scattercarpet"
           }
          ],
          "scattergeo": [
           {
            "marker": {
             "colorbar": {
              "outlinewidth": 0,
              "ticks": ""
             }
            },
            "type": "scattergeo"
           }
          ],
          "scattergl": [
           {
            "marker": {
             "colorbar": {
              "outlinewidth": 0,
              "ticks": ""
             }
            },
            "type": "scattergl"
           }
          ],
          "scattermapbox": [
           {
            "marker": {
             "colorbar": {
              "outlinewidth": 0,
              "ticks": ""
             }
            },
            "type": "scattermapbox"
           }
          ],
          "scatterpolar": [
           {
            "marker": {
             "colorbar": {
              "outlinewidth": 0,
              "ticks": ""
             }
            },
            "type": "scatterpolar"
           }
          ],
          "scatterpolargl": [
           {
            "marker": {
             "colorbar": {
              "outlinewidth": 0,
              "ticks": ""
             }
            },
            "type": "scatterpolargl"
           }
          ],
          "scatterternary": [
           {
            "marker": {
             "colorbar": {
              "outlinewidth": 0,
              "ticks": ""
             }
            },
            "type": "scatterternary"
           }
          ],
          "surface": [
           {
            "colorbar": {
             "outlinewidth": 0,
             "ticks": ""
            },
            "colorscale": [
             [
              0,
              "#0d0887"
             ],
             [
              0.1111111111111111,
              "#46039f"
             ],
             [
              0.2222222222222222,
              "#7201a8"
             ],
             [
              0.3333333333333333,
              "#9c179e"
             ],
             [
              0.4444444444444444,
              "#bd3786"
             ],
             [
              0.5555555555555556,
              "#d8576b"
             ],
             [
              0.6666666666666666,
              "#ed7953"
             ],
             [
              0.7777777777777778,
              "#fb9f3a"
             ],
             [
              0.8888888888888888,
              "#fdca26"
             ],
             [
              1,
              "#f0f921"
             ]
            ],
            "type": "surface"
           }
          ],
          "table": [
           {
            "cells": {
             "fill": {
              "color": "#EBF0F8"
             },
             "line": {
              "color": "white"
             }
            },
            "header": {
             "fill": {
              "color": "#C8D4E3"
             },
             "line": {
              "color": "white"
             }
            },
            "type": "table"
           }
          ]
         },
         "layout": {
          "annotationdefaults": {
           "arrowcolor": "#2a3f5f",
           "arrowhead": 0,
           "arrowwidth": 1
          },
          "autotypenumbers": "strict",
          "coloraxis": {
           "colorbar": {
            "outlinewidth": 0,
            "ticks": ""
           }
          },
          "colorscale": {
           "diverging": [
            [
             0,
             "#8e0152"
            ],
            [
             0.1,
             "#c51b7d"
            ],
            [
             0.2,
             "#de77ae"
            ],
            [
             0.3,
             "#f1b6da"
            ],
            [
             0.4,
             "#fde0ef"
            ],
            [
             0.5,
             "#f7f7f7"
            ],
            [
             0.6,
             "#e6f5d0"
            ],
            [
             0.7,
             "#b8e186"
            ],
            [
             0.8,
             "#7fbc41"
            ],
            [
             0.9,
             "#4d9221"
            ],
            [
             1,
             "#276419"
            ]
           ],
           "sequential": [
            [
             0,
             "#0d0887"
            ],
            [
             0.1111111111111111,
             "#46039f"
            ],
            [
             0.2222222222222222,
             "#7201a8"
            ],
            [
             0.3333333333333333,
             "#9c179e"
            ],
            [
             0.4444444444444444,
             "#bd3786"
            ],
            [
             0.5555555555555556,
             "#d8576b"
            ],
            [
             0.6666666666666666,
             "#ed7953"
            ],
            [
             0.7777777777777778,
             "#fb9f3a"
            ],
            [
             0.8888888888888888,
             "#fdca26"
            ],
            [
             1,
             "#f0f921"
            ]
           ],
           "sequentialminus": [
            [
             0,
             "#0d0887"
            ],
            [
             0.1111111111111111,
             "#46039f"
            ],
            [
             0.2222222222222222,
             "#7201a8"
            ],
            [
             0.3333333333333333,
             "#9c179e"
            ],
            [
             0.4444444444444444,
             "#bd3786"
            ],
            [
             0.5555555555555556,
             "#d8576b"
            ],
            [
             0.6666666666666666,
             "#ed7953"
            ],
            [
             0.7777777777777778,
             "#fb9f3a"
            ],
            [
             0.8888888888888888,
             "#fdca26"
            ],
            [
             1,
             "#f0f921"
            ]
           ]
          },
          "colorway": [
           "#636efa",
           "#EF553B",
           "#00cc96",
           "#ab63fa",
           "#FFA15A",
           "#19d3f3",
           "#FF6692",
           "#B6E880",
           "#FF97FF",
           "#FECB52"
          ],
          "font": {
           "color": "#2a3f5f"
          },
          "geo": {
           "bgcolor": "white",
           "lakecolor": "white",
           "landcolor": "#E5ECF6",
           "showlakes": true,
           "showland": true,
           "subunitcolor": "white"
          },
          "hoverlabel": {
           "align": "left"
          },
          "hovermode": "closest",
          "mapbox": {
           "style": "light"
          },
          "paper_bgcolor": "white",
          "plot_bgcolor": "#E5ECF6",
          "polar": {
           "angularaxis": {
            "gridcolor": "white",
            "linecolor": "white",
            "ticks": ""
           },
           "bgcolor": "#E5ECF6",
           "radialaxis": {
            "gridcolor": "white",
            "linecolor": "white",
            "ticks": ""
           }
          },
          "scene": {
           "xaxis": {
            "backgroundcolor": "#E5ECF6",
            "gridcolor": "white",
            "gridwidth": 2,
            "linecolor": "white",
            "showbackground": true,
            "ticks": "",
            "zerolinecolor": "white"
           },
           "yaxis": {
            "backgroundcolor": "#E5ECF6",
            "gridcolor": "white",
            "gridwidth": 2,
            "linecolor": "white",
            "showbackground": true,
            "ticks": "",
            "zerolinecolor": "white"
           },
           "zaxis": {
            "backgroundcolor": "#E5ECF6",
            "gridcolor": "white",
            "gridwidth": 2,
            "linecolor": "white",
            "showbackground": true,
            "ticks": "",
            "zerolinecolor": "white"
           }
          },
          "shapedefaults": {
           "line": {
            "color": "#2a3f5f"
           }
          },
          "ternary": {
           "aaxis": {
            "gridcolor": "white",
            "linecolor": "white",
            "ticks": ""
           },
           "baxis": {
            "gridcolor": "white",
            "linecolor": "white",
            "ticks": ""
           },
           "bgcolor": "#E5ECF6",
           "caxis": {
            "gridcolor": "white",
            "linecolor": "white",
            "ticks": ""
           }
          },
          "title": {
           "x": 0.05
          },
          "xaxis": {
           "automargin": true,
           "gridcolor": "white",
           "linecolor": "white",
           "ticks": "",
           "title": {
            "standoff": 15
           },
           "zerolinecolor": "white",
           "zerolinewidth": 2
          },
          "yaxis": {
           "automargin": true,
           "gridcolor": "white",
           "linecolor": "white",
           "ticks": "",
           "title": {
            "standoff": 15
           },
           "zerolinecolor": "white",
           "zerolinewidth": 2
          }
         }
        },
        "title": {
         "text": "Tesla Price Prediction"
        },
        "xaxis": {
         "title": {
          "text": "Date"
         }
        },
        "yaxis": {
         "title": {
          "text": "Price (USD)"
         }
        }
       }
      }
     },
     "metadata": {},
     "output_type": "display_data"
    }
   ],
   "source": [
    "import plotly.graph_objects as go\n",
    "\n",
    "# Plot the resuly using Plotly\n",
    "fig = go.Figure()\n",
    "fig.add_trace(go.Scatter(x=val.index, y=val['High'], mode='lines', name='Actual High'))\n",
    "fig.add_trace(go.Scatter(x=extended_val.index, y=extended_val['Predictions'], mode='lines', name='Predictions'))\n",
    "\n",
    "fig.update_layout(title='Tesla Price Prediction', xaxis_title='Date', yaxis_title='Price (USD)')\n",
    "\n",
    "fig.show()"
   ]
  },
  {
   "cell_type": "code",
   "execution_count": 53,
   "metadata": {},
   "outputs": [
    {
     "data": {
      "application/vnd.plotly.v1+json": {
       "config": {
        "plotlyServerURL": "https://plot.ly"
       },
       "data": [
        {
         "mode": "lines",
         "type": "scatter",
         "x": [
          1,
          2,
          3,
          4
         ],
         "y": [
          10,
          11,
          12,
          13
         ]
        }
       ],
       "layout": {
        "template": {
         "data": {
          "bar": [
           {
            "error_x": {
             "color": "#2a3f5f"
            },
            "error_y": {
             "color": "#2a3f5f"
            },
            "marker": {
             "line": {
              "color": "#E5ECF6",
              "width": 0.5
             },
             "pattern": {
              "fillmode": "overlay",
              "size": 10,
              "solidity": 0.2
             }
            },
            "type": "bar"
           }
          ],
          "barpolar": [
           {
            "marker": {
             "line": {
              "color": "#E5ECF6",
              "width": 0.5
             },
             "pattern": {
              "fillmode": "overlay",
              "size": 10,
              "solidity": 0.2
             }
            },
            "type": "barpolar"
           }
          ],
          "carpet": [
           {
            "aaxis": {
             "endlinecolor": "#2a3f5f",
             "gridcolor": "white",
             "linecolor": "white",
             "minorgridcolor": "white",
             "startlinecolor": "#2a3f5f"
            },
            "baxis": {
             "endlinecolor": "#2a3f5f",
             "gridcolor": "white",
             "linecolor": "white",
             "minorgridcolor": "white",
             "startlinecolor": "#2a3f5f"
            },
            "type": "carpet"
           }
          ],
          "choropleth": [
           {
            "colorbar": {
             "outlinewidth": 0,
             "ticks": ""
            },
            "type": "choropleth"
           }
          ],
          "contour": [
           {
            "colorbar": {
             "outlinewidth": 0,
             "ticks": ""
            },
            "colorscale": [
             [
              0,
              "#0d0887"
             ],
             [
              0.1111111111111111,
              "#46039f"
             ],
             [
              0.2222222222222222,
              "#7201a8"
             ],
             [
              0.3333333333333333,
              "#9c179e"
             ],
             [
              0.4444444444444444,
              "#bd3786"
             ],
             [
              0.5555555555555556,
              "#d8576b"
             ],
             [
              0.6666666666666666,
              "#ed7953"
             ],
             [
              0.7777777777777778,
              "#fb9f3a"
             ],
             [
              0.8888888888888888,
              "#fdca26"
             ],
             [
              1,
              "#f0f921"
             ]
            ],
            "type": "contour"
           }
          ],
          "contourcarpet": [
           {
            "colorbar": {
             "outlinewidth": 0,
             "ticks": ""
            },
            "type": "contourcarpet"
           }
          ],
          "heatmap": [
           {
            "colorbar": {
             "outlinewidth": 0,
             "ticks": ""
            },
            "colorscale": [
             [
              0,
              "#0d0887"
             ],
             [
              0.1111111111111111,
              "#46039f"
             ],
             [
              0.2222222222222222,
              "#7201a8"
             ],
             [
              0.3333333333333333,
              "#9c179e"
             ],
             [
              0.4444444444444444,
              "#bd3786"
             ],
             [
              0.5555555555555556,
              "#d8576b"
             ],
             [
              0.6666666666666666,
              "#ed7953"
             ],
             [
              0.7777777777777778,
              "#fb9f3a"
             ],
             [
              0.8888888888888888,
              "#fdca26"
             ],
             [
              1,
              "#f0f921"
             ]
            ],
            "type": "heatmap"
           }
          ],
          "heatmapgl": [
           {
            "colorbar": {
             "outlinewidth": 0,
             "ticks": ""
            },
            "colorscale": [
             [
              0,
              "#0d0887"
             ],
             [
              0.1111111111111111,
              "#46039f"
             ],
             [
              0.2222222222222222,
              "#7201a8"
             ],
             [
              0.3333333333333333,
              "#9c179e"
             ],
             [
              0.4444444444444444,
              "#bd3786"
             ],
             [
              0.5555555555555556,
              "#d8576b"
             ],
             [
              0.6666666666666666,
              "#ed7953"
             ],
             [
              0.7777777777777778,
              "#fb9f3a"
             ],
             [
              0.8888888888888888,
              "#fdca26"
             ],
             [
              1,
              "#f0f921"
             ]
            ],
            "type": "heatmapgl"
           }
          ],
          "histogram": [
           {
            "marker": {
             "pattern": {
              "fillmode": "overlay",
              "size": 10,
              "solidity": 0.2
             }
            },
            "type": "histogram"
           }
          ],
          "histogram2d": [
           {
            "colorbar": {
             "outlinewidth": 0,
             "ticks": ""
            },
            "colorscale": [
             [
              0,
              "#0d0887"
             ],
             [
              0.1111111111111111,
              "#46039f"
             ],
             [
              0.2222222222222222,
              "#7201a8"
             ],
             [
              0.3333333333333333,
              "#9c179e"
             ],
             [
              0.4444444444444444,
              "#bd3786"
             ],
             [
              0.5555555555555556,
              "#d8576b"
             ],
             [
              0.6666666666666666,
              "#ed7953"
             ],
             [
              0.7777777777777778,
              "#fb9f3a"
             ],
             [
              0.8888888888888888,
              "#fdca26"
             ],
             [
              1,
              "#f0f921"
             ]
            ],
            "type": "histogram2d"
           }
          ],
          "histogram2dcontour": [
           {
            "colorbar": {
             "outlinewidth": 0,
             "ticks": ""
            },
            "colorscale": [
             [
              0,
              "#0d0887"
             ],
             [
              0.1111111111111111,
              "#46039f"
             ],
             [
              0.2222222222222222,
              "#7201a8"
             ],
             [
              0.3333333333333333,
              "#9c179e"
             ],
             [
              0.4444444444444444,
              "#bd3786"
             ],
             [
              0.5555555555555556,
              "#d8576b"
             ],
             [
              0.6666666666666666,
              "#ed7953"
             ],
             [
              0.7777777777777778,
              "#fb9f3a"
             ],
             [
              0.8888888888888888,
              "#fdca26"
             ],
             [
              1,
              "#f0f921"
             ]
            ],
            "type": "histogram2dcontour"
           }
          ],
          "mesh3d": [
           {
            "colorbar": {
             "outlinewidth": 0,
             "ticks": ""
            },
            "type": "mesh3d"
           }
          ],
          "parcoords": [
           {
            "line": {
             "colorbar": {
              "outlinewidth": 0,
              "ticks": ""
             }
            },
            "type": "parcoords"
           }
          ],
          "pie": [
           {
            "automargin": true,
            "type": "pie"
           }
          ],
          "scatter": [
           {
            "fillpattern": {
             "fillmode": "overlay",
             "size": 10,
             "solidity": 0.2
            },
            "type": "scatter"
           }
          ],
          "scatter3d": [
           {
            "line": {
             "colorbar": {
              "outlinewidth": 0,
              "ticks": ""
             }
            },
            "marker": {
             "colorbar": {
              "outlinewidth": 0,
              "ticks": ""
             }
            },
            "type": "scatter3d"
           }
          ],
          "scattercarpet": [
           {
            "marker": {
             "colorbar": {
              "outlinewidth": 0,
              "ticks": ""
             }
            },
            "type": "scattercarpet"
           }
          ],
          "scattergeo": [
           {
            "marker": {
             "colorbar": {
              "outlinewidth": 0,
              "ticks": ""
             }
            },
            "type": "scattergeo"
           }
          ],
          "scattergl": [
           {
            "marker": {
             "colorbar": {
              "outlinewidth": 0,
              "ticks": ""
             }
            },
            "type": "scattergl"
           }
          ],
          "scattermapbox": [
           {
            "marker": {
             "colorbar": {
              "outlinewidth": 0,
              "ticks": ""
             }
            },
            "type": "scattermapbox"
           }
          ],
          "scatterpolar": [
           {
            "marker": {
             "colorbar": {
              "outlinewidth": 0,
              "ticks": ""
             }
            },
            "type": "scatterpolar"
           }
          ],
          "scatterpolargl": [
           {
            "marker": {
             "colorbar": {
              "outlinewidth": 0,
              "ticks": ""
             }
            },
            "type": "scatterpolargl"
           }
          ],
          "scatterternary": [
           {
            "marker": {
             "colorbar": {
              "outlinewidth": 0,
              "ticks": ""
             }
            },
            "type": "scatterternary"
           }
          ],
          "surface": [
           {
            "colorbar": {
             "outlinewidth": 0,
             "ticks": ""
            },
            "colorscale": [
             [
              0,
              "#0d0887"
             ],
             [
              0.1111111111111111,
              "#46039f"
             ],
             [
              0.2222222222222222,
              "#7201a8"
             ],
             [
              0.3333333333333333,
              "#9c179e"
             ],
             [
              0.4444444444444444,
              "#bd3786"
             ],
             [
              0.5555555555555556,
              "#d8576b"
             ],
             [
              0.6666666666666666,
              "#ed7953"
             ],
             [
              0.7777777777777778,
              "#fb9f3a"
             ],
             [
              0.8888888888888888,
              "#fdca26"
             ],
             [
              1,
              "#f0f921"
             ]
            ],
            "type": "surface"
           }
          ],
          "table": [
           {
            "cells": {
             "fill": {
              "color": "#EBF0F8"
             },
             "line": {
              "color": "white"
             }
            },
            "header": {
             "fill": {
              "color": "#C8D4E3"
             },
             "line": {
              "color": "white"
             }
            },
            "type": "table"
           }
          ]
         },
         "layout": {
          "annotationdefaults": {
           "arrowcolor": "#2a3f5f",
           "arrowhead": 0,
           "arrowwidth": 1
          },
          "autotypenumbers": "strict",
          "coloraxis": {
           "colorbar": {
            "outlinewidth": 0,
            "ticks": ""
           }
          },
          "colorscale": {
           "diverging": [
            [
             0,
             "#8e0152"
            ],
            [
             0.1,
             "#c51b7d"
            ],
            [
             0.2,
             "#de77ae"
            ],
            [
             0.3,
             "#f1b6da"
            ],
            [
             0.4,
             "#fde0ef"
            ],
            [
             0.5,
             "#f7f7f7"
            ],
            [
             0.6,
             "#e6f5d0"
            ],
            [
             0.7,
             "#b8e186"
            ],
            [
             0.8,
             "#7fbc41"
            ],
            [
             0.9,
             "#4d9221"
            ],
            [
             1,
             "#276419"
            ]
           ],
           "sequential": [
            [
             0,
             "#0d0887"
            ],
            [
             0.1111111111111111,
             "#46039f"
            ],
            [
             0.2222222222222222,
             "#7201a8"
            ],
            [
             0.3333333333333333,
             "#9c179e"
            ],
            [
             0.4444444444444444,
             "#bd3786"
            ],
            [
             0.5555555555555556,
             "#d8576b"
            ],
            [
             0.6666666666666666,
             "#ed7953"
            ],
            [
             0.7777777777777778,
             "#fb9f3a"
            ],
            [
             0.8888888888888888,
             "#fdca26"
            ],
            [
             1,
             "#f0f921"
            ]
           ],
           "sequentialminus": [
            [
             0,
             "#0d0887"
            ],
            [
             0.1111111111111111,
             "#46039f"
            ],
            [
             0.2222222222222222,
             "#7201a8"
            ],
            [
             0.3333333333333333,
             "#9c179e"
            ],
            [
             0.4444444444444444,
             "#bd3786"
            ],
            [
             0.5555555555555556,
             "#d8576b"
            ],
            [
             0.6666666666666666,
             "#ed7953"
            ],
            [
             0.7777777777777778,
             "#fb9f3a"
            ],
            [
             0.8888888888888888,
             "#fdca26"
            ],
            [
             1,
             "#f0f921"
            ]
           ]
          },
          "colorway": [
           "#636efa",
           "#EF553B",
           "#00cc96",
           "#ab63fa",
           "#FFA15A",
           "#19d3f3",
           "#FF6692",
           "#B6E880",
           "#FF97FF",
           "#FECB52"
          ],
          "font": {
           "color": "#2a3f5f"
          },
          "geo": {
           "bgcolor": "white",
           "lakecolor": "white",
           "landcolor": "#E5ECF6",
           "showlakes": true,
           "showland": true,
           "subunitcolor": "white"
          },
          "hoverlabel": {
           "align": "left"
          },
          "hovermode": "closest",
          "mapbox": {
           "style": "light"
          },
          "paper_bgcolor": "white",
          "plot_bgcolor": "#E5ECF6",
          "polar": {
           "angularaxis": {
            "gridcolor": "white",
            "linecolor": "white",
            "ticks": ""
           },
           "bgcolor": "#E5ECF6",
           "radialaxis": {
            "gridcolor": "white",
            "linecolor": "white",
            "ticks": ""
           }
          },
          "scene": {
           "xaxis": {
            "backgroundcolor": "#E5ECF6",
            "gridcolor": "white",
            "gridwidth": 2,
            "linecolor": "white",
            "showbackground": true,
            "ticks": "",
            "zerolinecolor": "white"
           },
           "yaxis": {
            "backgroundcolor": "#E5ECF6",
            "gridcolor": "white",
            "gridwidth": 2,
            "linecolor": "white",
            "showbackground": true,
            "ticks": "",
            "zerolinecolor": "white"
           },
           "zaxis": {
            "backgroundcolor": "#E5ECF6",
            "gridcolor": "white",
            "gridwidth": 2,
            "linecolor": "white",
            "showbackground": true,
            "ticks": "",
            "zerolinecolor": "white"
           }
          },
          "shapedefaults": {
           "line": {
            "color": "#2a3f5f"
           }
          },
          "ternary": {
           "aaxis": {
            "gridcolor": "white",
            "linecolor": "white",
            "ticks": ""
           },
           "baxis": {
            "gridcolor": "white",
            "linecolor": "white",
            "ticks": ""
           },
           "bgcolor": "#E5ECF6",
           "caxis": {
            "gridcolor": "white",
            "linecolor": "white",
            "ticks": ""
           }
          },
          "title": {
           "x": 0.05
          },
          "xaxis": {
           "automargin": true,
           "gridcolor": "white",
           "linecolor": "white",
           "ticks": "",
           "title": {
            "standoff": 15
           },
           "zerolinecolor": "white",
           "zerolinewidth": 2
          },
          "yaxis": {
           "automargin": true,
           "gridcolor": "white",
           "linecolor": "white",
           "ticks": "",
           "title": {
            "standoff": 15
           },
           "zerolinecolor": "white",
           "zerolinewidth": 2
          }
         }
        }
       }
      }
     },
     "metadata": {},
     "output_type": "display_data"
    }
   ],
   "source": [
    "import plotly.graph_objects as go\n",
    "\n",
    "# Sample data\n",
    "x = [1, 2, 3, 4]\n",
    "y = [10, 11, 12, 13]\n",
    "\n",
    "# Create a simple figure\n",
    "fig = go.Figure(data=go.Scatter(x=x, y=y, mode='lines'))\n",
    "\n",
    "# Show the figure\n",
    "fig.show()\n"
   ]
  },
  {
   "cell_type": "code",
   "execution_count": null,
   "metadata": {},
   "outputs": [],
   "source": []
  }
 ],
 "metadata": {
  "kernelspec": {
   "display_name": "Python 3",
   "language": "python",
   "name": "python3"
  },
  "language_info": {
   "codemirror_mode": {
    "name": "ipython",
    "version": 3
   },
   "file_extension": ".py",
   "mimetype": "text/x-python",
   "name": "python",
   "nbconvert_exporter": "python",
   "pygments_lexer": "ipython3",
   "version": "3.10.5"
  }
 },
 "nbformat": 4,
 "nbformat_minor": 2
}
